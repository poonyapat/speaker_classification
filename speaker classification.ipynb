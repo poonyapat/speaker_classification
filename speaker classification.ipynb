{
 "cells": [
  {
   "cell_type": "code",
   "execution_count": 2,
   "metadata": {},
   "outputs": [
    {
     "name": "stderr",
     "output_type": "stream",
     "text": [
      "Using TensorFlow backend.\n"
     ]
    }
   ],
   "source": [
    "from utilities import *\n",
    "import audio_features_utils\n",
    "import threading"
   ]
  },
  {
   "cell_type": "markdown",
   "metadata": {},
   "source": [
    "# SET CONSTANT"
   ]
  },
  {
   "cell_type": "code",
   "execution_count": 3,
   "metadata": {},
   "outputs": [],
   "source": [
    "DATA_DIR_PATH = '../dataset/vctk/VCTK-Corpus/wav48/'\n",
    "N_MFCC = 40\n",
    "SR = 16000\n",
    "AUDIO_LENGTH = 3 # seconds"
   ]
  },
  {
   "cell_type": "markdown",
   "metadata": {},
   "source": [
    "# PREPARATION"
   ]
  },
  {
   "cell_type": "code",
   "execution_count": 4,
   "metadata": {},
   "outputs": [],
   "source": [
    "def load_audio_and_resample(path):\n",
    "    rate, audio = wavfile.read(path)\n",
    "    audio = audio.astype(float)\n",
    "    if len(audio.shape) > 1:\n",
    "        audio = np.mean(audio, axis=-1)\n",
    "    audio = librosa.core.resample(audio, rate, SR)\n",
    "    return audio\n",
    "\n",
    "def preprocess(audio, st='random'):\n",
    "    assert st =='random' or type(st) == range, 'range has to be \\'random\\' or type range'\n",
    "    length = int(SR*AUDIO_LENGTH)\n",
    "    if len(audio) < length:\n",
    "        temp = np.zeros((length,))\n",
    "        temp[:len(audio)] = audio\n",
    "        audio = temp\n",
    "    elif st =='random':\n",
    "        start_idx = np.random.randint(0, len(audio) - length)\n",
    "        audio = audio[start_idx: start_idx+length]\n",
    "    else:\n",
    "        audio = audio[st: st+length] \n",
    "        \n",
    "    return librosa.feature.mfcc(audio, sr=SR, n_mfcc=N_MFCC)"
   ]
  },
  {
   "cell_type": "code",
   "execution_count": 5,
   "metadata": {},
   "outputs": [],
   "source": [
    "speakers = os.listdir(DATA_DIR_PATH)\n",
    "speaker_to_label = dict()\n",
    "for speaker in speakers:\n",
    "    speaker_to_label[speaker] = len(speaker_to_label)"
   ]
  },
  {
   "cell_type": "code",
   "execution_count": 6,
   "metadata": {},
   "outputs": [],
   "source": [
    "TEST_SIZE = 0.2\n",
    "VAL_SIZE = 0.1\n",
    "RANDOM_SEED = 99"
   ]
  },
  {
   "cell_type": "code",
   "execution_count": 7,
   "metadata": {},
   "outputs": [],
   "source": [
    "data = pd.DataFrame(columns=['filename','label','mode'])\n",
    "counts = dict()\n",
    "for speaker in speakers:\n",
    "    fnames = os.listdir(DATA_DIR_PATH+speaker)\n",
    "    counts[speaker] = len(fnames)\n",
    "    train, test = train_test_split(fnames, test_size=TEST_SIZE, random_state=RANDOM_SEED)\n",
    "    train, val = train_test_split(train, test_size=VAL_SIZE, random_state=RANDOM_SEED)\n",
    "    \n",
    "    temp = pd.DataFrame(np.transpose([\n",
    "        train, \n",
    "        [speaker_to_label[speaker]]*len(train), \n",
    "        ['train']*len(train),\n",
    "    ]),columns=['filename', 'label','mode'])\n",
    "        \n",
    "    data = data.append(temp, ignore_index=True)\n",
    "    \n",
    "    temp = pd.DataFrame(np.transpose([\n",
    "        test, \n",
    "        [speaker_to_label[speaker]]*len(test), \n",
    "        ['test']*len(test)\n",
    "    ]),columns=['filename', 'label','mode'])\n",
    "        \n",
    "    data = data.append(temp, ignore_index=True)\n",
    "    \n",
    "    temp = pd.DataFrame(np.transpose([\n",
    "        val, \n",
    "        [speaker_to_label[speaker]]*len(val), \n",
    "        ['val']*len(val)\n",
    "    ]),columns=['filename', 'label','mode'])\n",
    "        \n",
    "    data = data.append(temp, ignore_index=True)"
   ]
  },
  {
   "cell_type": "code",
   "execution_count": 8,
   "metadata": {},
   "outputs": [],
   "source": [
    "# audios = []\n",
    "# for filename in tqdm(data['filename']):\n",
    "#     to_path = lambda speaker, filename: f'{DATA_DIR_PATH}{speaker}/{filename}'\n",
    "#     path = to_path(filename[:4],filename)\n",
    "#     audios.append(load_audio_and_resample(path))\n",
    "# data['audio'] = audios\n",
    "audios_path = '../parsed_data/vctk/np_audios/'\n",
    "data['audio'] = np.concatenate([\n",
    "    np.load(audios_path+'np_audios1.npy', allow_pickle=True),\n",
    "    np.load(audios_path+'np_audios2.npy', allow_pickle=True),\n",
    "    np.load(audios_path+'np_audios3.npy', allow_pickle=True),\n",
    "    np.load(audios_path+'np_audios4.npy', allow_pickle=True),\n",
    "])"
   ]
  },
  {
   "cell_type": "code",
   "execution_count": 9,
   "metadata": {
    "scrolled": true
   },
   "outputs": [
    {
     "name": "stdout",
     "output_type": "stream",
     "text": [
      "min:  172 max:  503\n"
     ]
    },
    {
     "data": {
      "image/png": "[encoded data removed]",
      "text/plain": [
       "<Figure size 432x288 with 1 Axes>"
      ]
     },
     "metadata": {
      "needs_background": "light"
     },
     "output_type": "display_data"
    }
   ],
   "source": [
    "fig, ax = plt.subplots()\n",
    "sns.barplot(list(counts.keys()), list(counts.values()))\n",
    "ax.set_title(\"the number of images for each class\")\n",
    "ax.set_xlabel(\"class\")\n",
    "print('min: ',min(counts.values()), 'max: ',max(counts.values()))"
   ]
  },
  {
   "cell_type": "markdown",
   "metadata": {},
   "source": [
    "# SAMPLE"
   ]
  },
  {
   "cell_type": "code",
   "execution_count": 10,
   "metadata": {},
   "outputs": [],
   "source": [
    "sample_audio = data['audio'][0]\n",
    "sample_mfcc = preprocess(sample_audio)"
   ]
  },
  {
   "cell_type": "code",
   "execution_count": 11,
   "metadata": {},
   "outputs": [
    {
     "data": {
      "text/html": [
       "\n",
       "                <audio  controls=\"controls\" >\n",
       "                    <source src=\"data:audio/wav;base64,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\" type=\"audio/wav\" />\n",
       "                    Your browser does not support the audio element.\n",
       "                </audio>\n",
       "              "
      ],
      "text/plain": [
       "<IPython.lib.display.Audio object>"
      ]
     },
     "execution_count": 11,
     "metadata": {},
     "output_type": "execute_result"
    }
   ],
   "source": [
    "Audio(sample_audio, rate=16000)"
   ]
  },
  {
   "cell_type": "code",
   "execution_count": 12,
   "metadata": {},
   "outputs": [
    {
     "data": {
      "text/plain": [
       "(40, 94)"
      ]
     },
     "execution_count": 12,
     "metadata": {},
     "output_type": "execute_result"
    }
   ],
   "source": [
    "data_shape = sample_mfcc.shape\n",
    "data_shape"
   ]
  },
  {
   "cell_type": "code",
   "execution_count": 13,
   "metadata": {},
   "outputs": [
    {
     "data": {
      "text/plain": [
       "<matplotlib.image.AxesImage at 0x22fc6cb24e0>"
      ]
     },
     "execution_count": 13,
     "metadata": {},
     "output_type": "execute_result"
    },
    {
     "data": {
      "image/png": "[encoded data removed]",
      "text/plain": [
       "<Figure size 720x720 with 1 Axes>"
      ]
     },
     "metadata": {
      "needs_background": "light"
     },
     "output_type": "display_data"
    }
   ],
   "source": [
    "temp = preprocess(load_audio_and_resample(DATA_DIR_PATH+data['filename'][0][:4]+'/'+data['filename'][0]))\n",
    "plt.figure(figsize=(10,10))\n",
    "plt.imshow(temp, cmap='hot')"
   ]
  },
  {
   "cell_type": "code",
   "execution_count": 14,
   "metadata": {},
   "outputs": [
    {
     "data": {
      "text/plain": [
       "<matplotlib.image.AxesImage at 0x22fc6667da0>"
      ]
     },
     "execution_count": 14,
     "metadata": {},
     "output_type": "execute_result"
    },
    {
     "data": {
      "image/png": "[encoded data removed]",
      "text/plain": [
       "<Figure size 720x720 with 1 Axes>"
      ]
     },
     "metadata": {
      "needs_background": "light"
     },
     "output_type": "display_data"
    }
   ],
   "source": [
    "plt.figure(figsize=(10,10))\n",
    "plt.imshow(sample_mfcc, cmap='hot')"
   ]
  },
  {
   "cell_type": "markdown",
   "metadata": {},
   "source": [
    "# DATA GENERATOR"
   ]
  },
  {
   "cell_type": "code",
   "execution_count": 33,
   "metadata": {},
   "outputs": [],
   "source": [
    "class DataGenerator(keras.utils.Sequence):\n",
    "    def __init__(self, mode, sr=16000, times=3, batch_size=200, random_state=99, shuffle=True, train=True):\n",
    "        self.mode = mode\n",
    "        self.sr = sr\n",
    "        self.times = times\n",
    "        self.batch_size = batch_size\n",
    "        self.df = data[data['mode'] == mode]\n",
    "        self.train = train\n",
    "        \n",
    "        self.shuffle = shuffle\n",
    "        self.random_state = random_state\n",
    "        np.random.seed(self.random_state)\n",
    "        \n",
    "        self.indexes = np.array(self.df.index) \n",
    "        \n",
    "        self.on_epoch_end()\n",
    "    \n",
    "    def __len__(self):\n",
    "        return int(np.floor(len(self.df)/self.batch_size))\n",
    "    \n",
    "    def __getitem__(self, index):\n",
    "        indexes = self.__generate_batch_idxes(index)        \n",
    "        if self.train:\n",
    "            return self.__generate_X(indexes),self.__generate_y(indexes)\n",
    "        else:\n",
    "            return self.__generate_X(indexes)\n",
    "    \n",
    "    def __generate_batch_idxes(self, index):\n",
    "        return self.indexes[index*self.batch_size:(index+1)*self.batch_size]\n",
    "    \n",
    "    def on_epoch_end(self):\n",
    "        if self.shuffle:\n",
    "            np.random.shuffle(self.indexes)\n",
    "            \n",
    "    def __generate_X(self, indexes):\n",
    "        X = np.zeros((self.batch_size,)+data_shape, dtype=np.float16)\n",
    "        for i, idx in enumerate(indexes):\n",
    "            X[i] = preprocess(self.df['audio'][idx])\n",
    "        return X\n",
    "    \n",
    "    def __generate_y(self, indexes):\n",
    "        return np.array(self.df['label'].loc[indexes])"
   ]
  },
  {
   "cell_type": "markdown",
   "metadata": {},
   "source": [
    "# MODEL"
   ]
  },
  {
   "cell_type": "code",
   "execution_count": 21,
   "metadata": {},
   "outputs": [],
   "source": [
    "def feature_extractor13(name='feature_extractor', dup=0):\n",
    "    def Conv(f, k, s, inp):\n",
    "        inner = Conv1D(f, k, strides=s, padding='same')(inp)\n",
    "        inner = BatchNormalization()(inner)\n",
    "        inner = Activation(swish)(inner)\n",
    "        return inner\n",
    "        \n",
    "    features = data_shape[0]\n",
    "    input_layer = Input(data_shape, name='i1')\n",
    "    inner = Lambda(lambda x: tf.transpose(x, [0,2,1]))(input_layer)\n",
    "    inner = BatchNormalization(name='b1')(inner)\n",
    "    \n",
    "    features=64\n",
    "    inner = Conv(features, 5, 2, inner)\n",
    "    inner1 = Multiply()([gate(inner, 'sigmoid'), inner])\n",
    "    inner = Conv1D(features, 7, padding='same')(inner)\n",
    "    inner = Conv1D(features, 7, padding='same')(inner)\n",
    "    inner = Multiply()([gate(inner, 'sigmoid'), inner])\n",
    "    inner = Add()([inner1, inner])\n",
    "    inner = BatchNormalization()(inner)\n",
    "    inner = Activation(swish)(inner)\n",
    "    \n",
    "    inner1, inner2 = Lambda(lambda x: tf.split(x, 2, axis=-1))(inner)\n",
    "    \n",
    "    inner1 = Flatten()(inner1)\n",
    "    inner1 = Dense(512)(inner1)\n",
    "    \n",
    "    inner2 = Flatten()(inner2)\n",
    "    inner2 = Dense(512, activation='softmax')(inner2)\n",
    "    \n",
    "    inner = Multiply()([inner1, inner2])\n",
    "    inner = BatchNormalization()(inner)\n",
    "    output_layer = Dense(512, activation=swish)(inner)\n",
    "\n",
    "    if not dup:\n",
    "        return keras.models.Model(inputs=input_layer, outputs=output_layer, name=name)\n",
    "    else:\n",
    "        temp = []\n",
    "        for i in range(dup+1):\n",
    "            temp.append(keras.models.Model(inputs=input_layer, outputs=output_layer, name=name+'_'+str(i)))\n",
    "        return temp\n",
    "\n",
    "def full_model1():\n",
    "    input_layer1 = Input(data_shape)\n",
    "    fe = feature_extractor13()\n",
    "    \n",
    "    f1 = fe(input_layer1)\n",
    "    f1 = Dropout(0.5)(f1)\n",
    "    output_layer1 = Dense(len(speakers), activation='softmax', name='classifier')(f1)\n",
    "    classifier = keras.models.Model(inputs=input_layer1, outputs=output_layer1, name='classifier')\n",
    "    return classifier"
   ]
  },
  {
   "cell_type": "markdown",
   "metadata": {},
   "source": [
    "# CALLBACKS"
   ]
  },
  {
   "cell_type": "code",
   "execution_count": 27,
   "metadata": {},
   "outputs": [],
   "source": [
    "# model_name = 'combinerg42s-mse'\n",
    "model_name = '01ss'\n",
    "# model_path = 'D:/code/datasets/sound-trans/models/vctkv2/'+model_name+'/'\n",
    "model_path = '../models/vctkv2/'+model_name+'/'\n",
    "\n",
    "checkpoints_filenames = \"weights-{val_loss:.4f}.hdf5\"\n",
    "checkpoints = keras.callbacks.ModelCheckpoint(model_path+checkpoints_filenames, monitor='val_loss', save_weights_only=True, period=2)\n",
    "csv_logger = keras.callbacks.CSVLogger(model_path+'model.log', append=True)\n",
    "\n",
    "rlr = keras.callbacks.ReduceLROnPlateau(factor=0.5, patience=2, verbose=1)\n",
    "er = keras.callbacks.EarlyStopping(monitor='val_loss', min_delta=0.0001, patience=5, verbose=1)\n",
    "\n",
    "callback_list = [checkpoints,csv_logger, rlr, Logger(5), er]"
   ]
  },
  {
   "cell_type": "markdown",
   "metadata": {},
   "source": [
    "# TRAIN"
   ]
  },
  {
   "cell_type": "code",
   "execution_count": 23,
   "metadata": {},
   "outputs": [
    {
     "name": "stderr",
     "output_type": "stream",
     "text": [
      "WARNING: Logging before flag parsing goes to stderr.\n",
      "W1010 18:19:37.256423 10456 deprecation_wrapper.py:119] From c:\\program files\\python36\\lib\\site-packages\\keras\\backend\\tensorflow_backend.py:74: The name tf.get_default_graph is deprecated. Please use tf.compat.v1.get_default_graph instead.\n",
      "\n",
      "W1010 18:19:37.284428 10456 deprecation_wrapper.py:119] From c:\\program files\\python36\\lib\\site-packages\\keras\\backend\\tensorflow_backend.py:517: The name tf.placeholder is deprecated. Please use tf.compat.v1.placeholder instead.\n",
      "\n",
      "W1010 18:19:37.341432 10456 deprecation_wrapper.py:119] From c:\\program files\\python36\\lib\\site-packages\\keras\\backend\\tensorflow_backend.py:133: The name tf.placeholder_with_default is deprecated. Please use tf.compat.v1.placeholder_with_default instead.\n",
      "\n",
      "W1010 18:19:37.366961 10456 deprecation_wrapper.py:119] From c:\\program files\\python36\\lib\\site-packages\\keras\\backend\\tensorflow_backend.py:4138: The name tf.random_uniform is deprecated. Please use tf.random.uniform instead.\n",
      "\n",
      "W1010 18:19:38.082332 10456 deprecation.py:506] From c:\\program files\\python36\\lib\\site-packages\\keras\\backend\\tensorflow_backend.py:3445: calling dropout (from tensorflow.python.ops.nn_ops) with keep_prob is deprecated and will be removed in a future version.\n",
      "Instructions for updating:\n",
      "Please use `rate` instead of `keep_prob`. Rate should be set to `rate = 1 - keep_prob`.\n"
     ]
    },
    {
     "name": "stdout",
     "output_type": "stream",
     "text": [
      "_________________________________________________________________\n",
      "Layer (type)                 Output Shape              Param #   \n",
      "=================================================================\n",
      "input_1 (InputLayer)         (None, 40, 94)            0         \n",
      "_________________________________________________________________\n",
      "feature_extractor (Model)    (None, 512)               1885152   \n",
      "_________________________________________________________________\n",
      "dropout_1 (Dropout)          (None, 512)               0         \n",
      "_________________________________________________________________\n",
      "classifier (Dense)           (None, 109)               55917     \n",
      "=================================================================\n",
      "Total params: 1,941,069\n",
      "Trainable params: 1,939,709\n",
      "Non-trainable params: 1,360\n",
      "_________________________________________________________________\n"
     ]
    }
   ],
   "source": [
    "model = full_model1()\n",
    "model.summary()"
   ]
  },
  {
   "cell_type": "code",
   "execution_count": 24,
   "metadata": {},
   "outputs": [],
   "source": [
    "optimizer = keras.optimizers.Adam()"
   ]
  },
  {
   "cell_type": "code",
   "execution_count": 25,
   "metadata": {},
   "outputs": [
    {
     "name": "stderr",
     "output_type": "stream",
     "text": [
      "W1010 18:19:42.679735 10456 deprecation_wrapper.py:119] From c:\\program files\\python36\\lib\\site-packages\\keras\\optimizers.py:790: The name tf.train.Optimizer is deprecated. Please use tf.compat.v1.train.Optimizer instead.\n",
      "\n",
      "W1010 18:19:42.686721 10456 deprecation_wrapper.py:119] From c:\\program files\\python36\\lib\\site-packages\\keras\\backend\\tensorflow_backend.py:3341: The name tf.log is deprecated. Please use tf.math.log instead.\n",
      "\n"
     ]
    }
   ],
   "source": [
    "model.compile(optimizer, 'sparse_categorical_crossentropy', ['acc'])"
   ]
  },
  {
   "cell_type": "code",
   "execution_count": 26,
   "metadata": {},
   "outputs": [],
   "source": [
    "model.load_weights('../models/vctkv2/01/weights-0.0889.hdf5')"
   ]
  },
  {
   "cell_type": "code",
   "execution_count": 34,
   "metadata": {},
   "outputs": [
    {
     "name": "stdout",
     "output_type": "stream",
     "text": [
      "For batch 0 on 0, loss:   0.023, acc:   0.993\n",
      "For batch 5 on 1500, loss:   0.023, acc:   0.995\n",
      "For batch 10 on 3000, loss:   0.058, acc:   0.989\n",
      "For batch 15 on 4500, loss:   0.029, acc:   0.992\n",
      "For batch 20 on 6000, loss:   0.032, acc:   0.991\n",
      "For batch 25 on 7500, loss:   0.037, acc:   0.989\n",
      "For batch 30 on 9000, loss:   0.048, acc:   0.986\n",
      "For batch 35 on 10500, loss:   0.037, acc:   0.987\n",
      "For batch 40 on 12000, loss:   0.049, acc:   0.991\n",
      "For batch 45 on 13500, loss:   0.060, acc:   0.985\n",
      "For batch 50 on 15000, loss:   0.038, acc:   0.987\n",
      "For batch 55 on 16500, loss:   0.043, acc:   0.989\n",
      "For batch 60 on 18000, loss:   0.043, acc:   0.989\n",
      "For batch 65 on 19500, loss:   0.042, acc:   0.984\n",
      "For batch 70 on 21000, loss:   0.032, acc:   0.993\n",
      "For batch 75 on 22500, loss:   0.035, acc:   0.991\n",
      "For batch 80 on 24000, loss:   0.024, acc:   0.991\n",
      "For batch 85 on 25500, loss:   0.026, acc:   0.991\n",
      "For batch 90 on 27000, loss:   0.048, acc:   0.984\n",
      "For batch 95 on 28500, loss:   0.057, acc:   0.989\n",
      "For batch 100 on 30000, loss:   0.049, acc:   0.986\n",
      "Epoch 0 , val_loss:   0.137, val_acc:   0.965, loss:   0.041, acc:   0.989, lr:   0.001\n",
      "For batch 0 on 0, loss:   0.019, acc:   0.993, val_loss:   0.000, val_acc:   0.000, lr:   0.000\n",
      "For batch 5 on 1500, loss:   0.055, acc:   0.985, val_loss:   0.000, val_acc:   0.000, lr:   0.000\n",
      "For batch 10 on 3000, loss:   0.046, acc:   0.985, val_loss:   0.000, val_acc:   0.000, lr:   0.000\n",
      "For batch 15 on 4500, loss:   0.044, acc:   0.985, val_loss:   0.000, val_acc:   0.000, lr:   0.000\n",
      "For batch 20 on 6000, loss:   0.052, acc:   0.986, val_loss:   0.000, val_acc:   0.000, lr:   0.000\n",
      "For batch 25 on 7500, loss:   0.038, acc:   0.989, val_loss:   0.000, val_acc:   0.000, lr:   0.000\n",
      "For batch 30 on 9000, loss:   0.049, acc:   0.989, val_loss:   0.000, val_acc:   0.000, lr:   0.000\n",
      "For batch 35 on 10500, loss:   0.043, acc:   0.988, val_loss:   0.000, val_acc:   0.000, lr:   0.000\n",
      "For batch 40 on 12000, loss:   0.032, acc:   0.991, val_loss:   0.000, val_acc:   0.000, lr:   0.000\n",
      "For batch 45 on 13500, loss:   0.037, acc:   0.990, val_loss:   0.000, val_acc:   0.000, lr:   0.000\n",
      "For batch 50 on 15000, loss:   0.028, acc:   0.992, val_loss:   0.000, val_acc:   0.000, lr:   0.000\n",
      "For batch 55 on 16500, loss:   0.041, acc:   0.989, val_loss:   0.000, val_acc:   0.000, lr:   0.000\n",
      "For batch 60 on 18000, loss:   0.064, acc:   0.984, val_loss:   0.000, val_acc:   0.000, lr:   0.000\n",
      "For batch 65 on 19500, loss:   0.056, acc:   0.981, val_loss:   0.000, val_acc:   0.000, lr:   0.000\n",
      "For batch 70 on 21000, loss:   0.067, acc:   0.987, val_loss:   0.000, val_acc:   0.000, lr:   0.000\n",
      "For batch 75 on 22500, loss:   0.046, acc:   0.987, val_loss:   0.000, val_acc:   0.000, lr:   0.000\n",
      "For batch 80 on 24000, loss:   0.041, acc:   0.985, val_loss:   0.000, val_acc:   0.000, lr:   0.000\n",
      "For batch 85 on 25500, loss:   0.050, acc:   0.985, val_loss:   0.000, val_acc:   0.000, lr:   0.000\n",
      "For batch 90 on 27000, loss:   0.029, acc:   0.991, val_loss:   0.000, val_acc:   0.000, lr:   0.000\n",
      "For batch 95 on 28500, loss:   0.057, acc:   0.983, val_loss:   0.000, val_acc:   0.000, lr:   0.000\n",
      "For batch 100 on 30000, loss:   0.052, acc:   0.985, val_loss:   0.000, val_acc:   0.000, lr:   0.000\n",
      "Epoch 1 , val_loss:   0.111, val_acc:   0.970, loss:   0.046, acc:   0.987, lr:   0.001\n",
      "For batch 0 on 0, loss:   0.066, acc:   0.980, val_loss:   0.000, val_acc:   0.000, lr:   0.000\n",
      "For batch 5 on 1500, loss:   0.056, acc:   0.984, val_loss:   0.000, val_acc:   0.000, lr:   0.000\n",
      "For batch 10 on 3000, loss:   0.057, acc:   0.986, val_loss:   0.000, val_acc:   0.000, lr:   0.000\n",
      "For batch 15 on 4500, loss:   0.021, acc:   0.995, val_loss:   0.000, val_acc:   0.000, lr:   0.000\n",
      "For batch 20 on 6000, loss:   0.040, acc:   0.991, val_loss:   0.000, val_acc:   0.000, lr:   0.000\n",
      "For batch 25 on 7500, loss:   0.036, acc:   0.991, val_loss:   0.000, val_acc:   0.000, lr:   0.000\n",
      "For batch 30 on 9000, loss:   0.032, acc:   0.991, val_loss:   0.000, val_acc:   0.000, lr:   0.000\n",
      "For batch 35 on 10500, loss:   0.020, acc:   0.991, val_loss:   0.000, val_acc:   0.000, lr:   0.000\n",
      "For batch 40 on 12000, loss:   0.061, acc:   0.988, val_loss:   0.000, val_acc:   0.000, lr:   0.000\n",
      "For batch 45 on 13500, loss:   0.033, acc:   0.991, val_loss:   0.000, val_acc:   0.000, lr:   0.000\n",
      "For batch 50 on 15000, loss:   0.034, acc:   0.989, val_loss:   0.000, val_acc:   0.000, lr:   0.000\n",
      "For batch 55 on 16500, loss:   0.038, acc:   0.990, val_loss:   0.000, val_acc:   0.000, lr:   0.000\n",
      "For batch 60 on 18000, loss:   0.052, acc:   0.991, val_loss:   0.000, val_acc:   0.000, lr:   0.000\n",
      "For batch 65 on 19500, loss:   0.045, acc:   0.988, val_loss:   0.000, val_acc:   0.000, lr:   0.000\n",
      "For batch 70 on 21000, loss:   0.051, acc:   0.986, val_loss:   0.000, val_acc:   0.000, lr:   0.000\n",
      "For batch 75 on 22500, loss:   0.052, acc:   0.987, val_loss:   0.000, val_acc:   0.000, lr:   0.000\n",
      "For batch 80 on 24000, loss:   0.043, acc:   0.989, val_loss:   0.000, val_acc:   0.000, lr:   0.000\n",
      "For batch 85 on 25500, loss:   0.042, acc:   0.989, val_loss:   0.000, val_acc:   0.000, lr:   0.000\n",
      "For batch 90 on 27000, loss:   0.053, acc:   0.988, val_loss:   0.000, val_acc:   0.000, lr:   0.000\n",
      "For batch 95 on 28500, loss:   0.036, acc:   0.988, val_loss:   0.000, val_acc:   0.000, lr:   0.000\n",
      "For batch 100 on 30000, loss:   0.044, acc:   0.988, val_loss:   0.000, val_acc:   0.000, lr:   0.000\n",
      "Epoch 2 , val_loss:   0.102, val_acc:   0.974, loss:   0.043, acc:   0.989, lr:   0.001\n",
      "For batch 0 on 0, loss:   0.046, acc:   0.987, val_loss:   0.000, val_acc:   0.000, lr:   0.000\n",
      "For batch 5 on 1500, loss:   0.033, acc:   0.991, val_loss:   0.000, val_acc:   0.000, lr:   0.000\n",
      "For batch 10 on 3000, loss:   0.033, acc:   0.991, val_loss:   0.000, val_acc:   0.000, lr:   0.000\n",
      "For batch 15 on 4500, loss:   0.056, acc:   0.987, val_loss:   0.000, val_acc:   0.000, lr:   0.000\n",
      "For batch 20 on 6000, loss:   0.035, acc:   0.988, val_loss:   0.000, val_acc:   0.000, lr:   0.000\n",
      "For batch 25 on 7500, loss:   0.044, acc:   0.988, val_loss:   0.000, val_acc:   0.000, lr:   0.000\n",
      "For batch 30 on 9000, loss:   0.036, acc:   0.991, val_loss:   0.000, val_acc:   0.000, lr:   0.000\n",
      "For batch 35 on 10500, loss:   0.042, acc:   0.992, val_loss:   0.000, val_acc:   0.000, lr:   0.000\n",
      "For batch 40 on 12000, loss:   0.046, acc:   0.989, val_loss:   0.000, val_acc:   0.000, lr:   0.000\n",
      "For batch 45 on 13500, loss:   0.038, acc:   0.992, val_loss:   0.000, val_acc:   0.000, lr:   0.000\n",
      "For batch 50 on 15000, loss:   0.045, acc:   0.991, val_loss:   0.000, val_acc:   0.000, lr:   0.000\n",
      "For batch 55 on 16500, loss:   0.039, acc:   0.989, val_loss:   0.000, val_acc:   0.000, lr:   0.000\n",
      "For batch 60 on 18000, loss:   0.028, acc:   0.992, val_loss:   0.000, val_acc:   0.000, lr:   0.000\n",
      "For batch 65 on 19500, loss:   0.016, acc:   0.995, val_loss:   0.000, val_acc:   0.000, lr:   0.000\n",
      "For batch 70 on 21000, loss:   0.022, acc:   0.996, val_loss:   0.000, val_acc:   0.000, lr:   0.000\n",
      "For batch 75 on 22500, loss:   0.041, acc:   0.989, val_loss:   0.000, val_acc:   0.000, lr:   0.000\n",
      "For batch 80 on 24000, loss:   0.041, acc:   0.987, val_loss:   0.000, val_acc:   0.000, lr:   0.000\n",
      "For batch 85 on 25500, loss:   0.026, acc:   0.993, val_loss:   0.000, val_acc:   0.000, lr:   0.000\n",
      "For batch 90 on 27000, loss:   0.023, acc:   0.993, val_loss:   0.000, val_acc:   0.000, lr:   0.000\n",
      "For batch 95 on 28500, loss:   0.039, acc:   0.991, val_loss:   0.000, val_acc:   0.000, lr:   0.000\n",
      "For batch 100 on 30000, loss:   0.036, acc:   0.990, val_loss:   0.000, val_acc:   0.000, lr:   0.000\n",
      "Epoch 3 , val_loss:   0.068, val_acc:   0.981, loss:   0.036, acc:   0.991, lr:   0.001\n",
      "For batch 0 on 0, loss:   0.017, acc:   0.997, val_loss:   0.000, val_acc:   0.000, lr:   0.000\n",
      "For batch 5 on 1500, loss:   0.039, acc:   0.991, val_loss:   0.000, val_acc:   0.000, lr:   0.000\n",
      "For batch 10 on 3000, loss:   0.029, acc:   0.993, val_loss:   0.000, val_acc:   0.000, lr:   0.000\n",
      "For batch 15 on 4500, loss:   0.025, acc:   0.992, val_loss:   0.000, val_acc:   0.000, lr:   0.000\n"
     ]
    },
    {
     "name": "stdout",
     "output_type": "stream",
     "text": [
      "For batch 20 on 6000, loss:   0.034, acc:   0.993, val_loss:   0.000, val_acc:   0.000, lr:   0.000\n",
      "For batch 25 on 7500, loss:   0.025, acc:   0.991, val_loss:   0.000, val_acc:   0.000, lr:   0.000\n",
      "For batch 30 on 9000, loss:   0.029, acc:   0.991, val_loss:   0.000, val_acc:   0.000, lr:   0.000\n",
      "For batch 35 on 10500, loss:   0.039, acc:   0.989, val_loss:   0.000, val_acc:   0.000, lr:   0.000\n",
      "For batch 40 on 12000, loss:   0.031, acc:   0.993, val_loss:   0.000, val_acc:   0.000, lr:   0.000\n",
      "For batch 45 on 13500, loss:   0.022, acc:   0.993, val_loss:   0.000, val_acc:   0.000, lr:   0.000\n",
      "For batch 50 on 15000, loss:   0.029, acc:   0.993, val_loss:   0.000, val_acc:   0.000, lr:   0.000\n",
      "For batch 55 on 16500, loss:   0.017, acc:   0.995, val_loss:   0.000, val_acc:   0.000, lr:   0.000\n",
      "For batch 60 on 18000, loss:   0.034, acc:   0.991, val_loss:   0.000, val_acc:   0.000, lr:   0.000\n",
      "For batch 65 on 19500, loss:   0.035, acc:   0.990, val_loss:   0.000, val_acc:   0.000, lr:   0.000\n",
      "For batch 70 on 21000, loss:   0.034, acc:   0.991, val_loss:   0.000, val_acc:   0.000, lr:   0.000\n",
      "For batch 75 on 22500, loss:   0.030, acc:   0.993, val_loss:   0.000, val_acc:   0.000, lr:   0.000\n",
      "For batch 80 on 24000, loss:   0.047, acc:   0.986, val_loss:   0.000, val_acc:   0.000, lr:   0.000\n",
      "For batch 85 on 25500, loss:   0.067, acc:   0.983, val_loss:   0.000, val_acc:   0.000, lr:   0.000\n",
      "For batch 90 on 27000, loss:   0.034, acc:   0.992, val_loss:   0.000, val_acc:   0.000, lr:   0.000\n",
      "For batch 95 on 28500, loss:   0.037, acc:   0.989, val_loss:   0.000, val_acc:   0.000, lr:   0.000\n",
      "For batch 100 on 30000, loss:   0.037, acc:   0.989, val_loss:   0.000, val_acc:   0.000, lr:   0.000\n",
      "Epoch 4 , val_loss:   0.106, val_acc:   0.974, loss:   0.034, acc:   0.991, lr:   0.001\n",
      "For batch 0 on 0, loss:   0.063, acc:   0.977, val_loss:   0.000, val_acc:   0.000, lr:   0.000\n",
      "For batch 5 on 1500, loss:   0.037, acc:   0.992, val_loss:   0.000, val_acc:   0.000, lr:   0.000\n",
      "For batch 10 on 3000, loss:   0.033, acc:   0.988, val_loss:   0.000, val_acc:   0.000, lr:   0.000\n",
      "For batch 15 on 4500, loss:   0.021, acc:   0.994, val_loss:   0.000, val_acc:   0.000, lr:   0.000\n",
      "For batch 20 on 6000, loss:   0.042, acc:   0.990, val_loss:   0.000, val_acc:   0.000, lr:   0.000\n",
      "For batch 25 on 7500, loss:   0.033, acc:   0.989, val_loss:   0.000, val_acc:   0.000, lr:   0.000\n",
      "For batch 30 on 9000, loss:   0.036, acc:   0.989, val_loss:   0.000, val_acc:   0.000, lr:   0.000\n",
      "For batch 35 on 10500, loss:   0.022, acc:   0.995, val_loss:   0.000, val_acc:   0.000, lr:   0.000\n",
      "For batch 40 on 12000, loss:   0.031, acc:   0.993, val_loss:   0.000, val_acc:   0.000, lr:   0.000\n",
      "For batch 45 on 13500, loss:   0.044, acc:   0.987, val_loss:   0.000, val_acc:   0.000, lr:   0.000\n",
      "For batch 50 on 15000, loss:   0.037, acc:   0.991, val_loss:   0.000, val_acc:   0.000, lr:   0.000\n",
      "For batch 55 on 16500, loss:   0.031, acc:   0.989, val_loss:   0.000, val_acc:   0.000, lr:   0.000\n",
      "For batch 60 on 18000, loss:   0.040, acc:   0.991, val_loss:   0.000, val_acc:   0.000, lr:   0.000\n",
      "For batch 65 on 19500, loss:   0.034, acc:   0.992, val_loss:   0.000, val_acc:   0.000, lr:   0.000\n",
      "For batch 70 on 21000, loss:   0.029, acc:   0.991, val_loss:   0.000, val_acc:   0.000, lr:   0.000\n",
      "For batch 75 on 22500, loss:   0.029, acc:   0.992, val_loss:   0.000, val_acc:   0.000, lr:   0.000\n",
      "For batch 80 on 24000, loss:   0.031, acc:   0.989, val_loss:   0.000, val_acc:   0.000, lr:   0.000\n",
      "For batch 85 on 25500, loss:   0.035, acc:   0.991, val_loss:   0.000, val_acc:   0.000, lr:   0.000\n",
      "For batch 90 on 27000, loss:   0.049, acc:   0.987, val_loss:   0.000, val_acc:   0.000, lr:   0.000\n",
      "For batch 95 on 28500, loss:   0.031, acc:   0.992, val_loss:   0.000, val_acc:   0.000, lr:   0.000\n",
      "For batch 100 on 30000, loss:   0.038, acc:   0.992, val_loss:   0.000, val_acc:   0.000, lr:   0.000\n",
      "\n",
      "Epoch 00006: ReduceLROnPlateau reducing learning rate to 0.0005000000237487257.\n",
      "Epoch 5 , val_loss:   0.072, val_acc:   0.983, loss:   0.034, acc:   0.991, lr:   0.001\n",
      "For batch 0 on 0, loss:   0.001, acc:   1.000, val_loss:   0.000, val_acc:   0.000, lr:   0.000\n",
      "For batch 5 on 1500, loss:   0.043, acc:   0.991, val_loss:   0.000, val_acc:   0.000, lr:   0.000\n",
      "For batch 10 on 3000, loss:   0.030, acc:   0.993, val_loss:   0.000, val_acc:   0.000, lr:   0.000\n",
      "For batch 15 on 4500, loss:   0.022, acc:   0.991, val_loss:   0.000, val_acc:   0.000, lr:   0.000\n",
      "For batch 20 on 6000, loss:   0.016, acc:   0.994, val_loss:   0.000, val_acc:   0.000, lr:   0.000\n",
      "For batch 25 on 7500, loss:   0.023, acc:   0.994, val_loss:   0.000, val_acc:   0.000, lr:   0.000\n",
      "For batch 30 on 9000, loss:   0.030, acc:   0.993, val_loss:   0.000, val_acc:   0.000, lr:   0.000\n",
      "For batch 35 on 10500, loss:   0.013, acc:   0.996, val_loss:   0.000, val_acc:   0.000, lr:   0.000\n",
      "For batch 40 on 12000, loss:   0.014, acc:   0.997, val_loss:   0.000, val_acc:   0.000, lr:   0.000\n",
      "For batch 45 on 13500, loss:   0.016, acc:   0.997, val_loss:   0.000, val_acc:   0.000, lr:   0.000\n",
      "For batch 50 on 15000, loss:   0.015, acc:   0.997, val_loss:   0.000, val_acc:   0.000, lr:   0.000\n",
      "For batch 55 on 16500, loss:   0.021, acc:   0.995, val_loss:   0.000, val_acc:   0.000, lr:   0.000\n",
      "For batch 60 on 18000, loss:   0.025, acc:   0.995, val_loss:   0.000, val_acc:   0.000, lr:   0.000\n",
      "For batch 65 on 19500, loss:   0.020, acc:   0.993, val_loss:   0.000, val_acc:   0.000, lr:   0.000\n",
      "For batch 70 on 21000, loss:   0.015, acc:   0.994, val_loss:   0.000, val_acc:   0.000, lr:   0.000\n",
      "For batch 75 on 22500, loss:   0.028, acc:   0.992, val_loss:   0.000, val_acc:   0.000, lr:   0.000\n",
      "For batch 80 on 24000, loss:   0.013, acc:   0.996, val_loss:   0.000, val_acc:   0.000, lr:   0.000\n",
      "For batch 85 on 25500, loss:   0.013, acc:   0.996, val_loss:   0.000, val_acc:   0.000, lr:   0.000\n",
      "For batch 90 on 27000, loss:   0.016, acc:   0.995, val_loss:   0.000, val_acc:   0.000, lr:   0.000\n",
      "For batch 95 on 28500, loss:   0.013, acc:   0.997, val_loss:   0.000, val_acc:   0.000, lr:   0.000\n",
      "For batch 100 on 30000, loss:   0.011, acc:   0.995, val_loss:   0.000, val_acc:   0.000, lr:   0.000\n",
      "Epoch 6 , val_loss:   0.036, val_acc:   0.992, loss:   0.019, acc:   0.995, lr:   0.001\n",
      "For batch 0 on 0, loss:   0.002, acc:   1.000, val_loss:   0.000, val_acc:   0.000, lr:   0.000\n",
      "For batch 5 on 1500, loss:   0.015, acc:   0.997, val_loss:   0.000, val_acc:   0.000, lr:   0.000\n",
      "For batch 10 on 3000, loss:   0.005, acc:   0.999, val_loss:   0.000, val_acc:   0.000, lr:   0.000\n",
      "For batch 15 on 4500, loss:   0.010, acc:   0.998, val_loss:   0.000, val_acc:   0.000, lr:   0.000\n",
      "For batch 20 on 6000, loss:   0.017, acc:   0.995, val_loss:   0.000, val_acc:   0.000, lr:   0.000\n",
      "For batch 25 on 7500, loss:   0.010, acc:   0.996, val_loss:   0.000, val_acc:   0.000, lr:   0.000\n",
      "For batch 30 on 9000, loss:   0.011, acc:   0.997, val_loss:   0.000, val_acc:   0.000, lr:   0.000\n",
      "For batch 35 on 10500, loss:   0.013, acc:   0.997, val_loss:   0.000, val_acc:   0.000, lr:   0.000\n",
      "For batch 40 on 12000, loss:   0.007, acc:   0.999, val_loss:   0.000, val_acc:   0.000, lr:   0.000\n",
      "For batch 45 on 13500, loss:   0.011, acc:   0.999, val_loss:   0.000, val_acc:   0.000, lr:   0.000\n",
      "For batch 50 on 15000, loss:   0.014, acc:   0.996, val_loss:   0.000, val_acc:   0.000, lr:   0.000\n",
      "For batch 55 on 16500, loss:   0.019, acc:   0.996, val_loss:   0.000, val_acc:   0.000, lr:   0.000\n",
      "For batch 60 on 18000, loss:   0.020, acc:   0.997, val_loss:   0.000, val_acc:   0.000, lr:   0.000\n",
      "For batch 65 on 19500, loss:   0.012, acc:   0.997, val_loss:   0.000, val_acc:   0.000, lr:   0.000\n",
      "For batch 70 on 21000, loss:   0.016, acc:   0.997, val_loss:   0.000, val_acc:   0.000, lr:   0.000\n",
      "For batch 75 on 22500, loss:   0.017, acc:   0.995, val_loss:   0.000, val_acc:   0.000, lr:   0.000\n",
      "For batch 80 on 24000, loss:   0.003, acc:   0.999, val_loss:   0.000, val_acc:   0.000, lr:   0.000\n",
      "For batch 85 on 25500, loss:   0.010, acc:   0.997, val_loss:   0.000, val_acc:   0.000, lr:   0.000\n",
      "For batch 90 on 27000, loss:   0.005, acc:   0.999, val_loss:   0.000, val_acc:   0.000, lr:   0.000\n"
     ]
    },
    {
     "name": "stdout",
     "output_type": "stream",
     "text": [
      "For batch 95 on 28500, loss:   0.012, acc:   0.997, val_loss:   0.000, val_acc:   0.000, lr:   0.000\n",
      "For batch 100 on 30000, loss:   0.005, acc:   0.999, val_loss:   0.000, val_acc:   0.000, lr:   0.000\n",
      "Epoch 7 , val_loss:   0.027, val_acc:   0.992, loss:   0.011, acc:   0.997, lr:   0.001\n",
      "For batch 0 on 0, loss:   0.005, acc:   1.000, val_loss:   0.000, val_acc:   0.000, lr:   0.000\n",
      "For batch 5 on 1500, loss:   0.007, acc:   0.999, val_loss:   0.000, val_acc:   0.000, lr:   0.000\n",
      "For batch 10 on 3000, loss:   0.008, acc:   0.998, val_loss:   0.000, val_acc:   0.000, lr:   0.000\n",
      "For batch 15 on 4500, loss:   0.008, acc:   0.997, val_loss:   0.000, val_acc:   0.000, lr:   0.000\n",
      "For batch 20 on 6000, loss:   0.007, acc:   0.999, val_loss:   0.000, val_acc:   0.000, lr:   0.000\n",
      "For batch 25 on 7500, loss:   0.009, acc:   0.997, val_loss:   0.000, val_acc:   0.000, lr:   0.000\n",
      "For batch 30 on 9000, loss:   0.009, acc:   0.998, val_loss:   0.000, val_acc:   0.000, lr:   0.000\n",
      "For batch 35 on 10500, loss:   0.008, acc:   0.998, val_loss:   0.000, val_acc:   0.000, lr:   0.000\n",
      "For batch 40 on 12000, loss:   0.005, acc:   0.999, val_loss:   0.000, val_acc:   0.000, lr:   0.000\n",
      "For batch 45 on 13500, loss:   0.012, acc:   0.998, val_loss:   0.000, val_acc:   0.000, lr:   0.000\n",
      "For batch 50 on 15000, loss:   0.004, acc:   0.999, val_loss:   0.000, val_acc:   0.000, lr:   0.000\n",
      "For batch 55 on 16500, loss:   0.007, acc:   0.999, val_loss:   0.000, val_acc:   0.000, lr:   0.000\n",
      "For batch 60 on 18000, loss:   0.006, acc:   0.999, val_loss:   0.000, val_acc:   0.000, lr:   0.000\n",
      "For batch 65 on 19500, loss:   0.005, acc:   0.998, val_loss:   0.000, val_acc:   0.000, lr:   0.000\n",
      "For batch 70 on 21000, loss:   0.015, acc:   0.996, val_loss:   0.000, val_acc:   0.000, lr:   0.000\n",
      "For batch 75 on 22500, loss:   0.010, acc:   0.998, val_loss:   0.000, val_acc:   0.000, lr:   0.000\n",
      "For batch 80 on 24000, loss:   0.007, acc:   0.998, val_loss:   0.000, val_acc:   0.000, lr:   0.000\n",
      "For batch 85 on 25500, loss:   0.011, acc:   0.996, val_loss:   0.000, val_acc:   0.000, lr:   0.000\n",
      "For batch 90 on 27000, loss:   0.002, acc:   0.999, val_loss:   0.000, val_acc:   0.000, lr:   0.000\n",
      "For batch 95 on 28500, loss:   0.007, acc:   0.999, val_loss:   0.000, val_acc:   0.000, lr:   0.000\n",
      "For batch 100 on 30000, loss:   0.007, acc:   0.999, val_loss:   0.000, val_acc:   0.000, lr:   0.000\n",
      "Epoch 8 , val_loss:   0.028, val_acc:   0.993, loss:   0.008, acc:   0.998, lr:   0.001\n",
      "For batch 0 on 0, loss:   0.004, acc:   1.000, val_loss:   0.000, val_acc:   0.000, lr:   0.000\n",
      "For batch 5 on 1500, loss:   0.005, acc:   0.999, val_loss:   0.000, val_acc:   0.000, lr:   0.000\n",
      "For batch 10 on 3000, loss:   0.011, acc:   0.997, val_loss:   0.000, val_acc:   0.000, lr:   0.000\n",
      "For batch 15 on 4500, loss:   0.006, acc:   0.998, val_loss:   0.000, val_acc:   0.000, lr:   0.000\n",
      "For batch 20 on 6000, loss:   0.015, acc:   0.997, val_loss:   0.000, val_acc:   0.000, lr:   0.000\n",
      "For batch 25 on 7500, loss:   0.007, acc:   0.998, val_loss:   0.000, val_acc:   0.000, lr:   0.000\n",
      "For batch 30 on 9000, loss:   0.009, acc:   0.997, val_loss:   0.000, val_acc:   0.000, lr:   0.000\n",
      "For batch 35 on 10500, loss:   0.004, acc:   0.998, val_loss:   0.000, val_acc:   0.000, lr:   0.000\n",
      "For batch 40 on 12000, loss:   0.012, acc:   0.996, val_loss:   0.000, val_acc:   0.000, lr:   0.000\n",
      "For batch 45 on 13500, loss:   0.004, acc:   0.999, val_loss:   0.000, val_acc:   0.000, lr:   0.000\n",
      "For batch 50 on 15000, loss:   0.006, acc:   0.998, val_loss:   0.000, val_acc:   0.000, lr:   0.000\n",
      "For batch 55 on 16500, loss:   0.005, acc:   0.997, val_loss:   0.000, val_acc:   0.000, lr:   0.000\n",
      "For batch 60 on 18000, loss:   0.016, acc:   0.997, val_loss:   0.000, val_acc:   0.000, lr:   0.000\n",
      "For batch 65 on 19500, loss:   0.007, acc:   0.999, val_loss:   0.000, val_acc:   0.000, lr:   0.000\n",
      "For batch 70 on 21000, loss:   0.010, acc:   0.995, val_loss:   0.000, val_acc:   0.000, lr:   0.000\n",
      "For batch 75 on 22500, loss:   0.005, acc:   0.999, val_loss:   0.000, val_acc:   0.000, lr:   0.000\n",
      "For batch 80 on 24000, loss:   0.004, acc:   0.999, val_loss:   0.000, val_acc:   0.000, lr:   0.000\n",
      "For batch 85 on 25500, loss:   0.007, acc:   0.999, val_loss:   0.000, val_acc:   0.000, lr:   0.000\n",
      "For batch 90 on 27000, loss:   0.006, acc:   0.999, val_loss:   0.000, val_acc:   0.000, lr:   0.000\n",
      "For batch 95 on 28500, loss:   0.012, acc:   0.997, val_loss:   0.000, val_acc:   0.000, lr:   0.000\n",
      "For batch 100 on 30000, loss:   0.014, acc:   0.996, val_loss:   0.000, val_acc:   0.000, lr:   0.000\n",
      "Epoch 9 , val_loss:   0.022, val_acc:   0.993, loss:   0.008, acc:   0.998, lr:   0.001\n",
      "For batch 0 on 0, loss:   0.001, acc:   1.000, val_loss:   0.000, val_acc:   0.000, lr:   0.000\n",
      "For batch 5 on 1500, loss:   0.011, acc:   0.997, val_loss:   0.000, val_acc:   0.000, lr:   0.000\n",
      "For batch 10 on 3000, loss:   0.005, acc:   0.998, val_loss:   0.000, val_acc:   0.000, lr:   0.000\n",
      "For batch 15 on 4500, loss:   0.005, acc:   0.999, val_loss:   0.000, val_acc:   0.000, lr:   0.000\n",
      "For batch 20 on 6000, loss:   0.007, acc:   0.996, val_loss:   0.000, val_acc:   0.000, lr:   0.000\n",
      "For batch 25 on 7500, loss:   0.009, acc:   0.997, val_loss:   0.000, val_acc:   0.000, lr:   0.000\n",
      "For batch 30 on 9000, loss:   0.003, acc:   1.000, val_loss:   0.000, val_acc:   0.000, lr:   0.000\n",
      "For batch 35 on 10500, loss:   0.008, acc:   0.999, val_loss:   0.000, val_acc:   0.000, lr:   0.000\n",
      "For batch 40 on 12000, loss:   0.002, acc:   1.000, val_loss:   0.000, val_acc:   0.000, lr:   0.000\n",
      "For batch 45 on 13500, loss:   0.013, acc:   0.995, val_loss:   0.000, val_acc:   0.000, lr:   0.000\n",
      "For batch 50 on 15000, loss:   0.009, acc:   0.998, val_loss:   0.000, val_acc:   0.000, lr:   0.000\n",
      "For batch 55 on 16500, loss:   0.006, acc:   0.999, val_loss:   0.000, val_acc:   0.000, lr:   0.000\n",
      "For batch 60 on 18000, loss:   0.002, acc:   0.999, val_loss:   0.000, val_acc:   0.000, lr:   0.000\n",
      "For batch 65 on 19500, loss:   0.012, acc:   0.996, val_loss:   0.000, val_acc:   0.000, lr:   0.000\n",
      "For batch 70 on 21000, loss:   0.005, acc:   0.998, val_loss:   0.000, val_acc:   0.000, lr:   0.000\n",
      "For batch 75 on 22500, loss:   0.004, acc:   0.999, val_loss:   0.000, val_acc:   0.000, lr:   0.000\n",
      "For batch 80 on 24000, loss:   0.007, acc:   0.999, val_loss:   0.000, val_acc:   0.000, lr:   0.000\n",
      "For batch 85 on 25500, loss:   0.010, acc:   0.998, val_loss:   0.000, val_acc:   0.000, lr:   0.000\n",
      "For batch 90 on 27000, loss:   0.011, acc:   0.999, val_loss:   0.000, val_acc:   0.000, lr:   0.000\n",
      "For batch 95 on 28500, loss:   0.006, acc:   0.999, val_loss:   0.000, val_acc:   0.000, lr:   0.000\n",
      "For batch 100 on 30000, loss:   0.011, acc:   0.997, val_loss:   0.000, val_acc:   0.000, lr:   0.000\n",
      "Epoch 10 , val_loss:   0.026, val_acc:   0.993, loss:   0.007, acc:   0.998, lr:   0.001\n",
      "For batch 0 on 0, loss:   0.004, acc:   0.997, val_loss:   0.000, val_acc:   0.000, lr:   0.000\n",
      "For batch 5 on 1500, loss:   0.007, acc:   0.998, val_loss:   0.000, val_acc:   0.000, lr:   0.000\n",
      "For batch 10 on 3000, loss:   0.008, acc:   0.998, val_loss:   0.000, val_acc:   0.000, lr:   0.000\n",
      "For batch 15 on 4500, loss:   0.015, acc:   0.997, val_loss:   0.000, val_acc:   0.000, lr:   0.000\n",
      "For batch 20 on 6000, loss:   0.010, acc:   0.998, val_loss:   0.000, val_acc:   0.000, lr:   0.000\n",
      "For batch 25 on 7500, loss:   0.002, acc:   1.000, val_loss:   0.000, val_acc:   0.000, lr:   0.000\n",
      "For batch 30 on 9000, loss:   0.009, acc:   0.999, val_loss:   0.000, val_acc:   0.000, lr:   0.000\n",
      "For batch 35 on 10500, loss:   0.006, acc:   0.998, val_loss:   0.000, val_acc:   0.000, lr:   0.000\n",
      "For batch 40 on 12000, loss:   0.010, acc:   0.999, val_loss:   0.000, val_acc:   0.000, lr:   0.000\n",
      "For batch 45 on 13500, loss:   0.004, acc:   0.999, val_loss:   0.000, val_acc:   0.000, lr:   0.000\n",
      "For batch 50 on 15000, loss:   0.006, acc:   0.999, val_loss:   0.000, val_acc:   0.000, lr:   0.000\n",
      "For batch 55 on 16500, loss:   0.002, acc:   0.999, val_loss:   0.000, val_acc:   0.000, lr:   0.000\n",
      "For batch 60 on 18000, loss:   0.009, acc:   0.998, val_loss:   0.000, val_acc:   0.000, lr:   0.000\n"
     ]
    },
    {
     "name": "stdout",
     "output_type": "stream",
     "text": [
      "For batch 65 on 19500, loss:   0.008, acc:   0.997, val_loss:   0.000, val_acc:   0.000, lr:   0.000\n",
      "For batch 70 on 21000, loss:   0.011, acc:   0.997, val_loss:   0.000, val_acc:   0.000, lr:   0.000\n",
      "For batch 75 on 22500, loss:   0.007, acc:   0.997, val_loss:   0.000, val_acc:   0.000, lr:   0.000\n",
      "For batch 80 on 24000, loss:   0.009, acc:   0.997, val_loss:   0.000, val_acc:   0.000, lr:   0.000\n",
      "For batch 85 on 25500, loss:   0.009, acc:   0.997, val_loss:   0.000, val_acc:   0.000, lr:   0.000\n",
      "For batch 90 on 27000, loss:   0.008, acc:   0.997, val_loss:   0.000, val_acc:   0.000, lr:   0.000\n",
      "For batch 95 on 28500, loss:   0.006, acc:   0.997, val_loss:   0.000, val_acc:   0.000, lr:   0.000\n",
      "For batch 100 on 30000, loss:   0.008, acc:   0.997, val_loss:   0.000, val_acc:   0.000, lr:   0.000\n",
      "\n",
      "Epoch 00012: ReduceLROnPlateau reducing learning rate to 0.0002500000118743628.\n",
      "Epoch 11 , val_loss:   0.029, val_acc:   0.993, loss:   0.007, acc:   0.998, lr:   0.001\n",
      "For batch 0 on 0, loss:   0.004, acc:   0.997, val_loss:   0.000, val_acc:   0.000, lr:   0.000\n",
      "For batch 5 on 1500, loss:   0.006, acc:   0.999, val_loss:   0.000, val_acc:   0.000, lr:   0.000\n",
      "For batch 10 on 3000, loss:   0.008, acc:   0.998, val_loss:   0.000, val_acc:   0.000, lr:   0.000\n",
      "For batch 15 on 4500, loss:   0.004, acc:   0.999, val_loss:   0.000, val_acc:   0.000, lr:   0.000\n",
      "For batch 20 on 6000, loss:   0.005, acc:   0.999, val_loss:   0.000, val_acc:   0.000, lr:   0.000\n",
      "For batch 25 on 7500, loss:   0.009, acc:   0.998, val_loss:   0.000, val_acc:   0.000, lr:   0.000\n",
      "For batch 30 on 9000, loss:   0.008, acc:   0.997, val_loss:   0.000, val_acc:   0.000, lr:   0.000\n",
      "For batch 35 on 10500, loss:   0.006, acc:   0.997, val_loss:   0.000, val_acc:   0.000, lr:   0.000\n",
      "For batch 40 on 12000, loss:   0.004, acc:   0.999, val_loss:   0.000, val_acc:   0.000, lr:   0.000\n",
      "For batch 45 on 13500, loss:   0.002, acc:   1.000, val_loss:   0.000, val_acc:   0.000, lr:   0.000\n",
      "For batch 50 on 15000, loss:   0.002, acc:   1.000, val_loss:   0.000, val_acc:   0.000, lr:   0.000\n",
      "For batch 55 on 16500, loss:   0.005, acc:   0.999, val_loss:   0.000, val_acc:   0.000, lr:   0.000\n",
      "For batch 60 on 18000, loss:   0.005, acc:   0.998, val_loss:   0.000, val_acc:   0.000, lr:   0.000\n",
      "For batch 65 on 19500, loss:   0.005, acc:   0.998, val_loss:   0.000, val_acc:   0.000, lr:   0.000\n",
      "For batch 70 on 21000, loss:   0.011, acc:   0.996, val_loss:   0.000, val_acc:   0.000, lr:   0.000\n",
      "For batch 75 on 22500, loss:   0.011, acc:   0.997, val_loss:   0.000, val_acc:   0.000, lr:   0.000\n",
      "For batch 80 on 24000, loss:   0.003, acc:   0.999, val_loss:   0.000, val_acc:   0.000, lr:   0.000\n",
      "For batch 85 on 25500, loss:   0.002, acc:   1.000, val_loss:   0.000, val_acc:   0.000, lr:   0.000\n",
      "For batch 90 on 27000, loss:   0.005, acc:   0.999, val_loss:   0.000, val_acc:   0.000, lr:   0.000\n",
      "For batch 95 on 28500, loss:   0.006, acc:   0.997, val_loss:   0.000, val_acc:   0.000, lr:   0.000\n",
      "For batch 100 on 30000, loss:   0.008, acc:   0.998, val_loss:   0.000, val_acc:   0.000, lr:   0.000\n",
      "Epoch 12 , val_loss:   0.019, val_acc:   0.994, loss:   0.006, acc:   0.998, lr:   0.000\n",
      "For batch 0 on 0, loss:   0.005, acc:   1.000, val_loss:   0.000, val_acc:   0.000, lr:   0.000\n",
      "For batch 5 on 1500, loss:   0.002, acc:   1.000, val_loss:   0.000, val_acc:   0.000, lr:   0.000\n",
      "For batch 10 on 3000, loss:   0.004, acc:   0.999, val_loss:   0.000, val_acc:   0.000, lr:   0.000\n",
      "For batch 15 on 4500, loss:   0.004, acc:   0.999, val_loss:   0.000, val_acc:   0.000, lr:   0.000\n",
      "For batch 20 on 6000, loss:   0.004, acc:   0.999, val_loss:   0.000, val_acc:   0.000, lr:   0.000\n",
      "For batch 25 on 7500, loss:   0.005, acc:   0.998, val_loss:   0.000, val_acc:   0.000, lr:   0.000\n",
      "For batch 30 on 9000, loss:   0.007, acc:   0.998, val_loss:   0.000, val_acc:   0.000, lr:   0.000\n",
      "For batch 35 on 10500, loss:   0.002, acc:   1.000, val_loss:   0.000, val_acc:   0.000, lr:   0.000\n",
      "For batch 40 on 12000, loss:   0.001, acc:   1.000, val_loss:   0.000, val_acc:   0.000, lr:   0.000\n",
      "For batch 45 on 13500, loss:   0.014, acc:   0.998, val_loss:   0.000, val_acc:   0.000, lr:   0.000\n",
      "For batch 50 on 15000, loss:   0.001, acc:   1.000, val_loss:   0.000, val_acc:   0.000, lr:   0.000\n",
      "For batch 55 on 16500, loss:   0.001, acc:   1.000, val_loss:   0.000, val_acc:   0.000, lr:   0.000\n",
      "For batch 60 on 18000, loss:   0.014, acc:   0.997, val_loss:   0.000, val_acc:   0.000, lr:   0.000\n",
      "For batch 65 on 19500, loss:   0.003, acc:   0.999, val_loss:   0.000, val_acc:   0.000, lr:   0.000\n",
      "For batch 70 on 21000, loss:   0.007, acc:   0.997, val_loss:   0.000, val_acc:   0.000, lr:   0.000\n",
      "For batch 75 on 22500, loss:   0.002, acc:   0.999, val_loss:   0.000, val_acc:   0.000, lr:   0.000\n",
      "For batch 80 on 24000, loss:   0.003, acc:   0.999, val_loss:   0.000, val_acc:   0.000, lr:   0.000\n",
      "For batch 85 on 25500, loss:   0.004, acc:   0.999, val_loss:   0.000, val_acc:   0.000, lr:   0.000\n",
      "For batch 90 on 27000, loss:   0.002, acc:   0.999, val_loss:   0.000, val_acc:   0.000, lr:   0.000\n",
      "For batch 95 on 28500, loss:   0.004, acc:   0.999, val_loss:   0.000, val_acc:   0.000, lr:   0.000\n",
      "For batch 100 on 30000, loss:   0.011, acc:   0.997, val_loss:   0.000, val_acc:   0.000, lr:   0.000\n",
      "Epoch 13 , val_loss:   0.020, val_acc:   0.995, loss:   0.005, acc:   0.999, lr:   0.000\n",
      "For batch 0 on 0, loss:   0.003, acc:   1.000, val_loss:   0.000, val_acc:   0.000, lr:   0.000\n",
      "For batch 5 on 1500, loss:   0.004, acc:   0.999, val_loss:   0.000, val_acc:   0.000, lr:   0.000\n",
      "For batch 10 on 3000, loss:   0.001, acc:   1.000, val_loss:   0.000, val_acc:   0.000, lr:   0.000\n",
      "For batch 15 on 4500, loss:   0.004, acc:   0.999, val_loss:   0.000, val_acc:   0.000, lr:   0.000\n",
      "For batch 20 on 6000, loss:   0.003, acc:   0.999, val_loss:   0.000, val_acc:   0.000, lr:   0.000\n",
      "For batch 25 on 7500, loss:   0.005, acc:   0.998, val_loss:   0.000, val_acc:   0.000, lr:   0.000\n",
      "For batch 30 on 9000, loss:   0.007, acc:   0.997, val_loss:   0.000, val_acc:   0.000, lr:   0.000\n",
      "For batch 35 on 10500, loss:   0.006, acc:   0.999, val_loss:   0.000, val_acc:   0.000, lr:   0.000\n",
      "For batch 40 on 12000, loss:   0.006, acc:   0.999, val_loss:   0.000, val_acc:   0.000, lr:   0.000\n",
      "For batch 45 on 13500, loss:   0.002, acc:   1.000, val_loss:   0.000, val_acc:   0.000, lr:   0.000\n",
      "For batch 50 on 15000, loss:   0.007, acc:   0.997, val_loss:   0.000, val_acc:   0.000, lr:   0.000\n",
      "For batch 55 on 16500, loss:   0.005, acc:   0.997, val_loss:   0.000, val_acc:   0.000, lr:   0.000\n",
      "For batch 60 on 18000, loss:   0.002, acc:   0.999, val_loss:   0.000, val_acc:   0.000, lr:   0.000\n",
      "For batch 65 on 19500, loss:   0.003, acc:   0.999, val_loss:   0.000, val_acc:   0.000, lr:   0.000\n",
      "For batch 70 on 21000, loss:   0.002, acc:   1.000, val_loss:   0.000, val_acc:   0.000, lr:   0.000\n",
      "For batch 75 on 22500, loss:   0.007, acc:   0.998, val_loss:   0.000, val_acc:   0.000, lr:   0.000\n",
      "For batch 80 on 24000, loss:   0.006, acc:   0.998, val_loss:   0.000, val_acc:   0.000, lr:   0.000\n",
      "For batch 85 on 25500, loss:   0.004, acc:   0.999, val_loss:   0.000, val_acc:   0.000, lr:   0.000\n",
      "For batch 90 on 27000, loss:   0.008, acc:   0.997, val_loss:   0.000, val_acc:   0.000, lr:   0.000\n",
      "For batch 95 on 28500, loss:   0.008, acc:   0.999, val_loss:   0.000, val_acc:   0.000, lr:   0.000\n",
      "For batch 100 on 30000, loss:   0.008, acc:   0.998, val_loss:   0.000, val_acc:   0.000, lr:   0.000\n",
      "Epoch 14 , val_loss:   0.019, val_acc:   0.995, loss:   0.005, acc:   0.999, lr:   0.000\n",
      "For batch 0 on 0, loss:   0.007, acc:   0.997, val_loss:   0.000, val_acc:   0.000, lr:   0.000\n",
      "For batch 5 on 1500, loss:   0.007, acc:   0.999, val_loss:   0.000, val_acc:   0.000, lr:   0.000\n",
      "For batch 10 on 3000, loss:   0.008, acc:   0.998, val_loss:   0.000, val_acc:   0.000, lr:   0.000\n",
      "For batch 15 on 4500, loss:   0.005, acc:   0.999, val_loss:   0.000, val_acc:   0.000, lr:   0.000\n",
      "For batch 20 on 6000, loss:   0.006, acc:   0.999, val_loss:   0.000, val_acc:   0.000, lr:   0.000\n",
      "For batch 25 on 7500, loss:   0.009, acc:   0.999, val_loss:   0.000, val_acc:   0.000, lr:   0.000\n"
     ]
    },
    {
     "name": "stdout",
     "output_type": "stream",
     "text": [
      "For batch 30 on 9000, loss:   0.002, acc:   1.000, val_loss:   0.000, val_acc:   0.000, lr:   0.000\n",
      "For batch 35 on 10500, loss:   0.001, acc:   1.000, val_loss:   0.000, val_acc:   0.000, lr:   0.000\n",
      "For batch 40 on 12000, loss:   0.006, acc:   0.997, val_loss:   0.000, val_acc:   0.000, lr:   0.000\n",
      "For batch 45 on 13500, loss:   0.003, acc:   0.998, val_loss:   0.000, val_acc:   0.000, lr:   0.000\n",
      "For batch 50 on 15000, loss:   0.003, acc:   1.000, val_loss:   0.000, val_acc:   0.000, lr:   0.000\n",
      "For batch 55 on 16500, loss:   0.006, acc:   0.999, val_loss:   0.000, val_acc:   0.000, lr:   0.000\n",
      "For batch 60 on 18000, loss:   0.004, acc:   0.999, val_loss:   0.000, val_acc:   0.000, lr:   0.000\n",
      "For batch 65 on 19500, loss:   0.003, acc:   0.999, val_loss:   0.000, val_acc:   0.000, lr:   0.000\n",
      "For batch 70 on 21000, loss:   0.003, acc:   0.999, val_loss:   0.000, val_acc:   0.000, lr:   0.000\n",
      "For batch 75 on 22500, loss:   0.004, acc:   0.999, val_loss:   0.000, val_acc:   0.000, lr:   0.000\n",
      "For batch 80 on 24000, loss:   0.004, acc:   0.999, val_loss:   0.000, val_acc:   0.000, lr:   0.000\n",
      "For batch 85 on 25500, loss:   0.001, acc:   1.000, val_loss:   0.000, val_acc:   0.000, lr:   0.000\n",
      "For batch 90 on 27000, loss:   0.004, acc:   0.999, val_loss:   0.000, val_acc:   0.000, lr:   0.000\n",
      "For batch 95 on 28500, loss:   0.008, acc:   0.997, val_loss:   0.000, val_acc:   0.000, lr:   0.000\n",
      "For batch 100 on 30000, loss:   0.003, acc:   0.999, val_loss:   0.000, val_acc:   0.000, lr:   0.000\n",
      "Epoch 15 , val_loss:   0.019, val_acc:   0.994, loss:   0.004, acc:   0.999, lr:   0.000\n",
      "For batch 0 on 0, loss:   0.001, acc:   1.000, val_loss:   0.000, val_acc:   0.000, lr:   0.000\n",
      "For batch 5 on 1500, loss:   0.002, acc:   0.999, val_loss:   0.000, val_acc:   0.000, lr:   0.000\n",
      "For batch 10 on 3000, loss:   0.003, acc:   0.999, val_loss:   0.000, val_acc:   0.000, lr:   0.000\n",
      "For batch 15 on 4500, loss:   0.014, acc:   0.996, val_loss:   0.000, val_acc:   0.000, lr:   0.000\n",
      "For batch 20 on 6000, loss:   0.002, acc:   0.999, val_loss:   0.000, val_acc:   0.000, lr:   0.000\n",
      "For batch 25 on 7500, loss:   0.003, acc:   0.999, val_loss:   0.000, val_acc:   0.000, lr:   0.000\n",
      "For batch 30 on 9000, loss:   0.008, acc:   0.997, val_loss:   0.000, val_acc:   0.000, lr:   0.000\n",
      "For batch 35 on 10500, loss:   0.002, acc:   0.999, val_loss:   0.000, val_acc:   0.000, lr:   0.000\n",
      "For batch 40 on 12000, loss:   0.003, acc:   0.998, val_loss:   0.000, val_acc:   0.000, lr:   0.000\n",
      "For batch 45 on 13500, loss:   0.006, acc:   0.997, val_loss:   0.000, val_acc:   0.000, lr:   0.000\n",
      "For batch 50 on 15000, loss:   0.003, acc:   0.999, val_loss:   0.000, val_acc:   0.000, lr:   0.000\n",
      "For batch 55 on 16500, loss:   0.001, acc:   1.000, val_loss:   0.000, val_acc:   0.000, lr:   0.000\n",
      "For batch 60 on 18000, loss:   0.005, acc:   0.999, val_loss:   0.000, val_acc:   0.000, lr:   0.000\n",
      "For batch 65 on 19500, loss:   0.006, acc:   0.998, val_loss:   0.000, val_acc:   0.000, lr:   0.000\n",
      "For batch 70 on 21000, loss:   0.002, acc:   0.999, val_loss:   0.000, val_acc:   0.000, lr:   0.000\n",
      "For batch 75 on 22500, loss:   0.004, acc:   0.998, val_loss:   0.000, val_acc:   0.000, lr:   0.000\n",
      "For batch 80 on 24000, loss:   0.001, acc:   1.000, val_loss:   0.000, val_acc:   0.000, lr:   0.000\n",
      "For batch 85 on 25500, loss:   0.006, acc:   0.999, val_loss:   0.000, val_acc:   0.000, lr:   0.000\n",
      "For batch 90 on 27000, loss:   0.002, acc:   1.000, val_loss:   0.000, val_acc:   0.000, lr:   0.000\n",
      "For batch 95 on 28500, loss:   0.001, acc:   1.000, val_loss:   0.000, val_acc:   0.000, lr:   0.000\n",
      "For batch 100 on 30000, loss:   0.006, acc:   0.998, val_loss:   0.000, val_acc:   0.000, lr:   0.000\n",
      "Epoch 16 , val_loss:   0.018, val_acc:   0.995, loss:   0.004, acc:   0.999, lr:   0.000\n",
      "For batch 0 on 0, loss:   0.000, acc:   1.000, val_loss:   0.000, val_acc:   0.000, lr:   0.000\n",
      "For batch 5 on 1500, loss:   0.001, acc:   1.000, val_loss:   0.000, val_acc:   0.000, lr:   0.000\n",
      "For batch 10 on 3000, loss:   0.003, acc:   0.999, val_loss:   0.000, val_acc:   0.000, lr:   0.000\n",
      "For batch 15 on 4500, loss:   0.003, acc:   0.999, val_loss:   0.000, val_acc:   0.000, lr:   0.000\n",
      "For batch 20 on 6000, loss:   0.005, acc:   0.999, val_loss:   0.000, val_acc:   0.000, lr:   0.000\n",
      "For batch 25 on 7500, loss:   0.009, acc:   0.999, val_loss:   0.000, val_acc:   0.000, lr:   0.000\n",
      "For batch 30 on 9000, loss:   0.006, acc:   0.999, val_loss:   0.000, val_acc:   0.000, lr:   0.000\n",
      "For batch 35 on 10500, loss:   0.004, acc:   0.999, val_loss:   0.000, val_acc:   0.000, lr:   0.000\n",
      "For batch 40 on 12000, loss:   0.001, acc:   1.000, val_loss:   0.000, val_acc:   0.000, lr:   0.000\n",
      "For batch 45 on 13500, loss:   0.003, acc:   0.999, val_loss:   0.000, val_acc:   0.000, lr:   0.000\n",
      "For batch 50 on 15000, loss:   0.006, acc:   0.998, val_loss:   0.000, val_acc:   0.000, lr:   0.000\n",
      "For batch 55 on 16500, loss:   0.007, acc:   0.997, val_loss:   0.000, val_acc:   0.000, lr:   0.000\n",
      "For batch 60 on 18000, loss:   0.001, acc:   1.000, val_loss:   0.000, val_acc:   0.000, lr:   0.000\n",
      "For batch 65 on 19500, loss:   0.003, acc:   0.999, val_loss:   0.000, val_acc:   0.000, lr:   0.000\n",
      "For batch 70 on 21000, loss:   0.004, acc:   0.999, val_loss:   0.000, val_acc:   0.000, lr:   0.000\n",
      "For batch 75 on 22500, loss:   0.006, acc:   0.998, val_loss:   0.000, val_acc:   0.000, lr:   0.000\n",
      "For batch 80 on 24000, loss:   0.002, acc:   1.000, val_loss:   0.000, val_acc:   0.000, lr:   0.000\n",
      "For batch 85 on 25500, loss:   0.002, acc:   0.999, val_loss:   0.000, val_acc:   0.000, lr:   0.000\n",
      "For batch 90 on 27000, loss:   0.007, acc:   0.998, val_loss:   0.000, val_acc:   0.000, lr:   0.000\n",
      "For batch 95 on 28500, loss:   0.002, acc:   0.999, val_loss:   0.000, val_acc:   0.000, lr:   0.000\n",
      "For batch 100 on 30000, loss:   0.009, acc:   0.998, val_loss:   0.000, val_acc:   0.000, lr:   0.000\n",
      "Epoch 17 , val_loss:   0.019, val_acc:   0.995, loss:   0.004, acc:   0.999, lr:   0.000\n",
      "For batch 0 on 0, loss:   0.000, acc:   1.000, val_loss:   0.000, val_acc:   0.000, lr:   0.000\n",
      "For batch 5 on 1500, loss:   0.001, acc:   1.000, val_loss:   0.000, val_acc:   0.000, lr:   0.000\n",
      "For batch 10 on 3000, loss:   0.004, acc:   0.998, val_loss:   0.000, val_acc:   0.000, lr:   0.000\n",
      "For batch 15 on 4500, loss:   0.002, acc:   0.999, val_loss:   0.000, val_acc:   0.000, lr:   0.000\n",
      "For batch 20 on 6000, loss:   0.005, acc:   0.999, val_loss:   0.000, val_acc:   0.000, lr:   0.000\n",
      "For batch 25 on 7500, loss:   0.004, acc:   0.999, val_loss:   0.000, val_acc:   0.000, lr:   0.000\n",
      "For batch 30 on 9000, loss:   0.001, acc:   0.999, val_loss:   0.000, val_acc:   0.000, lr:   0.000\n",
      "For batch 35 on 10500, loss:   0.001, acc:   1.000, val_loss:   0.000, val_acc:   0.000, lr:   0.000\n",
      "For batch 40 on 12000, loss:   0.002, acc:   0.999, val_loss:   0.000, val_acc:   0.000, lr:   0.000\n",
      "For batch 45 on 13500, loss:   0.010, acc:   0.998, val_loss:   0.000, val_acc:   0.000, lr:   0.000\n",
      "For batch 50 on 15000, loss:   0.006, acc:   0.999, val_loss:   0.000, val_acc:   0.000, lr:   0.000\n",
      "For batch 55 on 16500, loss:   0.012, acc:   0.997, val_loss:   0.000, val_acc:   0.000, lr:   0.000\n",
      "For batch 60 on 18000, loss:   0.000, acc:   1.000, val_loss:   0.000, val_acc:   0.000, lr:   0.000\n",
      "For batch 65 on 19500, loss:   0.001, acc:   1.000, val_loss:   0.000, val_acc:   0.000, lr:   0.000\n",
      "For batch 70 on 21000, loss:   0.006, acc:   0.999, val_loss:   0.000, val_acc:   0.000, lr:   0.000\n",
      "For batch 75 on 22500, loss:   0.001, acc:   1.000, val_loss:   0.000, val_acc:   0.000, lr:   0.000\n",
      "For batch 80 on 24000, loss:   0.002, acc:   1.000, val_loss:   0.000, val_acc:   0.000, lr:   0.000\n",
      "For batch 85 on 25500, loss:   0.007, acc:   0.997, val_loss:   0.000, val_acc:   0.000, lr:   0.000\n",
      "For batch 90 on 27000, loss:   0.001, acc:   1.000, val_loss:   0.000, val_acc:   0.000, lr:   0.000\n",
      "For batch 95 on 28500, loss:   0.004, acc:   0.999, val_loss:   0.000, val_acc:   0.000, lr:   0.000\n",
      "For batch 100 on 30000, loss:   0.002, acc:   0.999, val_loss:   0.000, val_acc:   0.000, lr:   0.000\n"
     ]
    },
    {
     "name": "stdout",
     "output_type": "stream",
     "text": [
      "Epoch 18 , val_loss:   0.017, val_acc:   0.996, loss:   0.004, acc:   0.999, lr:   0.000\n",
      "For batch 0 on 0, loss:   0.000, acc:   1.000, val_loss:   0.000, val_acc:   0.000, lr:   0.000\n",
      "For batch 5 on 1500, loss:   0.002, acc:   1.000, val_loss:   0.000, val_acc:   0.000, lr:   0.000\n",
      "For batch 10 on 3000, loss:   0.004, acc:   0.999, val_loss:   0.000, val_acc:   0.000, lr:   0.000\n",
      "For batch 15 on 4500, loss:   0.005, acc:   0.999, val_loss:   0.000, val_acc:   0.000, lr:   0.000\n",
      "For batch 20 on 6000, loss:   0.008, acc:   0.999, val_loss:   0.000, val_acc:   0.000, lr:   0.000\n",
      "For batch 25 on 7500, loss:   0.005, acc:   0.998, val_loss:   0.000, val_acc:   0.000, lr:   0.000\n",
      "For batch 30 on 9000, loss:   0.001, acc:   1.000, val_loss:   0.000, val_acc:   0.000, lr:   0.000\n",
      "For batch 35 on 10500, loss:   0.001, acc:   1.000, val_loss:   0.000, val_acc:   0.000, lr:   0.000\n",
      "For batch 40 on 12000, loss:   0.003, acc:   0.999, val_loss:   0.000, val_acc:   0.000, lr:   0.000\n",
      "For batch 45 on 13500, loss:   0.007, acc:   0.998, val_loss:   0.000, val_acc:   0.000, lr:   0.000\n",
      "For batch 50 on 15000, loss:   0.002, acc:   0.999, val_loss:   0.000, val_acc:   0.000, lr:   0.000\n",
      "For batch 55 on 16500, loss:   0.006, acc:   0.998, val_loss:   0.000, val_acc:   0.000, lr:   0.000\n",
      "For batch 60 on 18000, loss:   0.006, acc:   0.999, val_loss:   0.000, val_acc:   0.000, lr:   0.000\n",
      "For batch 65 on 19500, loss:   0.002, acc:   0.999, val_loss:   0.000, val_acc:   0.000, lr:   0.000\n",
      "For batch 70 on 21000, loss:   0.002, acc:   0.999, val_loss:   0.000, val_acc:   0.000, lr:   0.000\n",
      "For batch 75 on 22500, loss:   0.002, acc:   0.999, val_loss:   0.000, val_acc:   0.000, lr:   0.000\n",
      "For batch 80 on 24000, loss:   0.002, acc:   0.999, val_loss:   0.000, val_acc:   0.000, lr:   0.000\n",
      "For batch 85 on 25500, loss:   0.003, acc:   0.999, val_loss:   0.000, val_acc:   0.000, lr:   0.000\n",
      "For batch 90 on 27000, loss:   0.002, acc:   0.999, val_loss:   0.000, val_acc:   0.000, lr:   0.000\n",
      "For batch 95 on 28500, loss:   0.004, acc:   0.999, val_loss:   0.000, val_acc:   0.000, lr:   0.000\n",
      "For batch 100 on 30000, loss:   0.001, acc:   0.999, val_loss:   0.000, val_acc:   0.000, lr:   0.000\n",
      "Epoch 19 , val_loss:   0.017, val_acc:   0.995, loss:   0.003, acc:   0.999, lr:   0.000\n",
      "For batch 0 on 0, loss:   0.000, acc:   1.000, val_loss:   0.000, val_acc:   0.000, lr:   0.000\n",
      "For batch 5 on 1500, loss:   0.002, acc:   0.999, val_loss:   0.000, val_acc:   0.000, lr:   0.000\n",
      "For batch 10 on 3000, loss:   0.001, acc:   1.000, val_loss:   0.000, val_acc:   0.000, lr:   0.000\n",
      "For batch 15 on 4500, loss:   0.002, acc:   0.999, val_loss:   0.000, val_acc:   0.000, lr:   0.000\n",
      "For batch 20 on 6000, loss:   0.005, acc:   0.999, val_loss:   0.000, val_acc:   0.000, lr:   0.000\n",
      "For batch 25 on 7500, loss:   0.005, acc:   0.997, val_loss:   0.000, val_acc:   0.000, lr:   0.000\n",
      "For batch 30 on 9000, loss:   0.006, acc:   0.998, val_loss:   0.000, val_acc:   0.000, lr:   0.000\n",
      "For batch 35 on 10500, loss:   0.004, acc:   0.999, val_loss:   0.000, val_acc:   0.000, lr:   0.000\n",
      "For batch 40 on 12000, loss:   0.008, acc:   0.997, val_loss:   0.000, val_acc:   0.000, lr:   0.000\n",
      "For batch 45 on 13500, loss:   0.006, acc:   0.999, val_loss:   0.000, val_acc:   0.000, lr:   0.000\n",
      "For batch 50 on 15000, loss:   0.003, acc:   0.999, val_loss:   0.000, val_acc:   0.000, lr:   0.000\n",
      "For batch 55 on 16500, loss:   0.001, acc:   1.000, val_loss:   0.000, val_acc:   0.000, lr:   0.000\n",
      "For batch 60 on 18000, loss:   0.004, acc:   0.999, val_loss:   0.000, val_acc:   0.000, lr:   0.000\n",
      "For batch 65 on 19500, loss:   0.005, acc:   0.998, val_loss:   0.000, val_acc:   0.000, lr:   0.000\n",
      "For batch 70 on 21000, loss:   0.008, acc:   0.999, val_loss:   0.000, val_acc:   0.000, lr:   0.000\n",
      "For batch 75 on 22500, loss:   0.002, acc:   0.999, val_loss:   0.000, val_acc:   0.000, lr:   0.000\n",
      "For batch 80 on 24000, loss:   0.006, acc:   0.999, val_loss:   0.000, val_acc:   0.000, lr:   0.000\n",
      "For batch 85 on 25500, loss:   0.002, acc:   0.999, val_loss:   0.000, val_acc:   0.000, lr:   0.000\n",
      "For batch 90 on 27000, loss:   0.005, acc:   0.999, val_loss:   0.000, val_acc:   0.000, lr:   0.000\n",
      "For batch 95 on 28500, loss:   0.003, acc:   1.000, val_loss:   0.000, val_acc:   0.000, lr:   0.000\n",
      "For batch 100 on 30000, loss:   0.002, acc:   1.000, val_loss:   0.000, val_acc:   0.000, lr:   0.000\n",
      "Epoch 20 , val_loss:   0.013, val_acc:   0.996, loss:   0.004, acc:   0.999, lr:   0.000\n",
      "For batch 0 on 0, loss:   0.003, acc:   1.000, val_loss:   0.000, val_acc:   0.000, lr:   0.000\n",
      "For batch 5 on 1500, loss:   0.005, acc:   0.999, val_loss:   0.000, val_acc:   0.000, lr:   0.000\n",
      "For batch 10 on 3000, loss:   0.004, acc:   0.999, val_loss:   0.000, val_acc:   0.000, lr:   0.000\n",
      "For batch 15 on 4500, loss:   0.005, acc:   0.999, val_loss:   0.000, val_acc:   0.000, lr:   0.000\n",
      "For batch 20 on 6000, loss:   0.001, acc:   1.000, val_loss:   0.000, val_acc:   0.000, lr:   0.000\n",
      "For batch 25 on 7500, loss:   0.004, acc:   0.999, val_loss:   0.000, val_acc:   0.000, lr:   0.000\n",
      "For batch 30 on 9000, loss:   0.000, acc:   1.000, val_loss:   0.000, val_acc:   0.000, lr:   0.000\n",
      "For batch 35 on 10500, loss:   0.003, acc:   0.999, val_loss:   0.000, val_acc:   0.000, lr:   0.000\n",
      "For batch 40 on 12000, loss:   0.003, acc:   0.999, val_loss:   0.000, val_acc:   0.000, lr:   0.000\n",
      "For batch 45 on 13500, loss:   0.002, acc:   0.999, val_loss:   0.000, val_acc:   0.000, lr:   0.000\n",
      "For batch 50 on 15000, loss:   0.005, acc:   0.998, val_loss:   0.000, val_acc:   0.000, lr:   0.000\n",
      "For batch 55 on 16500, loss:   0.001, acc:   1.000, val_loss:   0.000, val_acc:   0.000, lr:   0.000\n",
      "For batch 60 on 18000, loss:   0.001, acc:   1.000, val_loss:   0.000, val_acc:   0.000, lr:   0.000\n",
      "For batch 65 on 19500, loss:   0.006, acc:   0.998, val_loss:   0.000, val_acc:   0.000, lr:   0.000\n",
      "For batch 70 on 21000, loss:   0.001, acc:   1.000, val_loss:   0.000, val_acc:   0.000, lr:   0.000\n",
      "For batch 75 on 22500, loss:   0.004, acc:   0.999, val_loss:   0.000, val_acc:   0.000, lr:   0.000\n",
      "For batch 80 on 24000, loss:   0.003, acc:   0.999, val_loss:   0.000, val_acc:   0.000, lr:   0.000\n",
      "For batch 85 on 25500, loss:   0.004, acc:   0.999, val_loss:   0.000, val_acc:   0.000, lr:   0.000\n",
      "For batch 90 on 27000, loss:   0.003, acc:   0.998, val_loss:   0.000, val_acc:   0.000, lr:   0.000\n",
      "For batch 95 on 28500, loss:   0.002, acc:   1.000, val_loss:   0.000, val_acc:   0.000, lr:   0.000\n",
      "For batch 100 on 30000, loss:   0.002, acc:   0.999, val_loss:   0.000, val_acc:   0.000, lr:   0.000\n",
      "Epoch 21 , val_loss:   0.017, val_acc:   0.995, loss:   0.003, acc:   0.999, lr:   0.000\n",
      "For batch 0 on 0, loss:   0.002, acc:   1.000, val_loss:   0.000, val_acc:   0.000, lr:   0.000\n",
      "For batch 5 on 1500, loss:   0.001, acc:   1.000, val_loss:   0.000, val_acc:   0.000, lr:   0.000\n",
      "For batch 10 on 3000, loss:   0.004, acc:   0.999, val_loss:   0.000, val_acc:   0.000, lr:   0.000\n",
      "For batch 15 on 4500, loss:   0.002, acc:   0.999, val_loss:   0.000, val_acc:   0.000, lr:   0.000\n",
      "For batch 20 on 6000, loss:   0.001, acc:   0.999, val_loss:   0.000, val_acc:   0.000, lr:   0.000\n",
      "For batch 25 on 7500, loss:   0.008, acc:   0.998, val_loss:   0.000, val_acc:   0.000, lr:   0.000\n",
      "For batch 30 on 9000, loss:   0.004, acc:   0.999, val_loss:   0.000, val_acc:   0.000, lr:   0.000\n",
      "For batch 35 on 10500, loss:   0.003, acc:   0.999, val_loss:   0.000, val_acc:   0.000, lr:   0.000\n",
      "For batch 40 on 12000, loss:   0.004, acc:   0.998, val_loss:   0.000, val_acc:   0.000, lr:   0.000\n",
      "For batch 45 on 13500, loss:   0.001, acc:   1.000, val_loss:   0.000, val_acc:   0.000, lr:   0.000\n",
      "For batch 50 on 15000, loss:   0.005, acc:   0.999, val_loss:   0.000, val_acc:   0.000, lr:   0.000\n",
      "For batch 55 on 16500, loss:   0.004, acc:   0.999, val_loss:   0.000, val_acc:   0.000, lr:   0.000\n",
      "For batch 60 on 18000, loss:   0.002, acc:   0.999, val_loss:   0.000, val_acc:   0.000, lr:   0.000\n",
      "For batch 65 on 19500, loss:   0.002, acc:   0.999, val_loss:   0.000, val_acc:   0.000, lr:   0.000\n",
      "For batch 70 on 21000, loss:   0.005, acc:   0.999, val_loss:   0.000, val_acc:   0.000, lr:   0.000\n"
     ]
    },
    {
     "name": "stdout",
     "output_type": "stream",
     "text": [
      "For batch 75 on 22500, loss:   0.000, acc:   1.000, val_loss:   0.000, val_acc:   0.000, lr:   0.000\n",
      "For batch 80 on 24000, loss:   0.001, acc:   1.000, val_loss:   0.000, val_acc:   0.000, lr:   0.000\n",
      "For batch 85 on 25500, loss:   0.010, acc:   0.999, val_loss:   0.000, val_acc:   0.000, lr:   0.000\n",
      "For batch 90 on 27000, loss:   0.002, acc:   0.999, val_loss:   0.000, val_acc:   0.000, lr:   0.000\n",
      "For batch 95 on 28500, loss:   0.001, acc:   1.000, val_loss:   0.000, val_acc:   0.000, lr:   0.000\n",
      "For batch 100 on 30000, loss:   0.000, acc:   1.000, val_loss:   0.000, val_acc:   0.000, lr:   0.000\n",
      "\n",
      "Epoch 00023: ReduceLROnPlateau reducing learning rate to 0.0001250000059371814.\n",
      "Epoch 22 , val_loss:   0.016, val_acc:   0.996, loss:   0.003, acc:   0.999, lr:   0.000\n",
      "For batch 0 on 0, loss:   0.001, acc:   1.000, val_loss:   0.000, val_acc:   0.000, lr:   0.000\n",
      "For batch 5 on 1500, loss:   0.001, acc:   1.000, val_loss:   0.000, val_acc:   0.000, lr:   0.000\n",
      "For batch 10 on 3000, loss:   0.002, acc:   0.999, val_loss:   0.000, val_acc:   0.000, lr:   0.000\n",
      "For batch 15 on 4500, loss:   0.001, acc:   1.000, val_loss:   0.000, val_acc:   0.000, lr:   0.000\n",
      "For batch 20 on 6000, loss:   0.002, acc:   0.999, val_loss:   0.000, val_acc:   0.000, lr:   0.000\n",
      "For batch 25 on 7500, loss:   0.008, acc:   0.999, val_loss:   0.000, val_acc:   0.000, lr:   0.000\n",
      "For batch 30 on 9000, loss:   0.001, acc:   0.999, val_loss:   0.000, val_acc:   0.000, lr:   0.000\n",
      "For batch 35 on 10500, loss:   0.010, acc:   0.999, val_loss:   0.000, val_acc:   0.000, lr:   0.000\n",
      "For batch 40 on 12000, loss:   0.002, acc:   0.999, val_loss:   0.000, val_acc:   0.000, lr:   0.000\n",
      "For batch 45 on 13500, loss:   0.001, acc:   1.000, val_loss:   0.000, val_acc:   0.000, lr:   0.000\n",
      "For batch 50 on 15000, loss:   0.007, acc:   0.999, val_loss:   0.000, val_acc:   0.000, lr:   0.000\n",
      "For batch 55 on 16500, loss:   0.003, acc:   0.999, val_loss:   0.000, val_acc:   0.000, lr:   0.000\n",
      "For batch 60 on 18000, loss:   0.002, acc:   0.999, val_loss:   0.000, val_acc:   0.000, lr:   0.000\n",
      "For batch 65 on 19500, loss:   0.002, acc:   0.999, val_loss:   0.000, val_acc:   0.000, lr:   0.000\n",
      "For batch 70 on 21000, loss:   0.001, acc:   1.000, val_loss:   0.000, val_acc:   0.000, lr:   0.000\n",
      "For batch 75 on 22500, loss:   0.003, acc:   0.999, val_loss:   0.000, val_acc:   0.000, lr:   0.000\n",
      "For batch 80 on 24000, loss:   0.001, acc:   1.000, val_loss:   0.000, val_acc:   0.000, lr:   0.000\n",
      "For batch 85 on 25500, loss:   0.000, acc:   1.000, val_loss:   0.000, val_acc:   0.000, lr:   0.000\n",
      "For batch 90 on 27000, loss:   0.006, acc:   0.997, val_loss:   0.000, val_acc:   0.000, lr:   0.000\n",
      "For batch 95 on 28500, loss:   0.001, acc:   1.000, val_loss:   0.000, val_acc:   0.000, lr:   0.000\n",
      "For batch 100 on 30000, loss:   0.004, acc:   0.999, val_loss:   0.000, val_acc:   0.000, lr:   0.000\n",
      "Epoch 23 , val_loss:   0.014, val_acc:   0.996, loss:   0.003, acc:   0.999, lr:   0.000\n",
      "For batch 0 on 0, loss:   0.001, acc:   1.000, val_loss:   0.000, val_acc:   0.000, lr:   0.000\n",
      "For batch 5 on 1500, loss:   0.001, acc:   0.999, val_loss:   0.000, val_acc:   0.000, lr:   0.000\n",
      "For batch 10 on 3000, loss:   0.001, acc:   1.000, val_loss:   0.000, val_acc:   0.000, lr:   0.000\n",
      "For batch 15 on 4500, loss:   0.002, acc:   0.999, val_loss:   0.000, val_acc:   0.000, lr:   0.000\n",
      "For batch 20 on 6000, loss:   0.002, acc:   1.000, val_loss:   0.000, val_acc:   0.000, lr:   0.000\n",
      "For batch 25 on 7500, loss:   0.003, acc:   0.999, val_loss:   0.000, val_acc:   0.000, lr:   0.000\n",
      "For batch 30 on 9000, loss:   0.002, acc:   0.999, val_loss:   0.000, val_acc:   0.000, lr:   0.000\n",
      "For batch 35 on 10500, loss:   0.002, acc:   1.000, val_loss:   0.000, val_acc:   0.000, lr:   0.000\n",
      "For batch 40 on 12000, loss:   0.006, acc:   0.999, val_loss:   0.000, val_acc:   0.000, lr:   0.000\n",
      "For batch 45 on 13500, loss:   0.001, acc:   1.000, val_loss:   0.000, val_acc:   0.000, lr:   0.000\n",
      "For batch 50 on 15000, loss:   0.001, acc:   1.000, val_loss:   0.000, val_acc:   0.000, lr:   0.000\n",
      "For batch 55 on 16500, loss:   0.001, acc:   0.999, val_loss:   0.000, val_acc:   0.000, lr:   0.000\n",
      "For batch 60 on 18000, loss:   0.000, acc:   1.000, val_loss:   0.000, val_acc:   0.000, lr:   0.000\n",
      "For batch 65 on 19500, loss:   0.003, acc:   0.999, val_loss:   0.000, val_acc:   0.000, lr:   0.000\n",
      "For batch 70 on 21000, loss:   0.003, acc:   0.999, val_loss:   0.000, val_acc:   0.000, lr:   0.000\n",
      "For batch 75 on 22500, loss:   0.002, acc:   0.999, val_loss:   0.000, val_acc:   0.000, lr:   0.000\n",
      "For batch 80 on 24000, loss:   0.001, acc:   1.000, val_loss:   0.000, val_acc:   0.000, lr:   0.000\n",
      "For batch 85 on 25500, loss:   0.003, acc:   0.999, val_loss:   0.000, val_acc:   0.000, lr:   0.000\n",
      "For batch 90 on 27000, loss:   0.002, acc:   0.999, val_loss:   0.000, val_acc:   0.000, lr:   0.000\n",
      "For batch 95 on 28500, loss:   0.003, acc:   0.999, val_loss:   0.000, val_acc:   0.000, lr:   0.000\n",
      "For batch 100 on 30000, loss:   0.003, acc:   0.999, val_loss:   0.000, val_acc:   0.000, lr:   0.000\n",
      "\n",
      "Epoch 00025: ReduceLROnPlateau reducing learning rate to 6.25000029685907e-05.\n",
      "Epoch 24 , val_loss:   0.016, val_acc:   0.996, loss:   0.002, acc:   0.999, lr:   0.000\n",
      "For batch 0 on 0, loss:   0.000, acc:   1.000, val_loss:   0.000, val_acc:   0.000, lr:   0.000\n",
      "For batch 5 on 1500, loss:   0.004, acc:   0.999, val_loss:   0.000, val_acc:   0.000, lr:   0.000\n",
      "For batch 10 on 3000, loss:   0.001, acc:   1.000, val_loss:   0.000, val_acc:   0.000, lr:   0.000\n",
      "For batch 15 on 4500, loss:   0.002, acc:   0.999, val_loss:   0.000, val_acc:   0.000, lr:   0.000\n",
      "For batch 20 on 6000, loss:   0.004, acc:   0.999, val_loss:   0.000, val_acc:   0.000, lr:   0.000\n",
      "For batch 25 on 7500, loss:   0.004, acc:   0.999, val_loss:   0.000, val_acc:   0.000, lr:   0.000\n",
      "For batch 30 on 9000, loss:   0.001, acc:   1.000, val_loss:   0.000, val_acc:   0.000, lr:   0.000\n",
      "For batch 35 on 10500, loss:   0.003, acc:   0.999, val_loss:   0.000, val_acc:   0.000, lr:   0.000\n",
      "For batch 40 on 12000, loss:   0.001, acc:   1.000, val_loss:   0.000, val_acc:   0.000, lr:   0.000\n",
      "For batch 45 on 13500, loss:   0.002, acc:   0.999, val_loss:   0.000, val_acc:   0.000, lr:   0.000\n",
      "For batch 50 on 15000, loss:   0.004, acc:   0.999, val_loss:   0.000, val_acc:   0.000, lr:   0.000\n",
      "For batch 55 on 16500, loss:   0.005, acc:   0.999, val_loss:   0.000, val_acc:   0.000, lr:   0.000\n",
      "For batch 60 on 18000, loss:   0.003, acc:   0.999, val_loss:   0.000, val_acc:   0.000, lr:   0.000\n",
      "For batch 65 on 19500, loss:   0.004, acc:   0.999, val_loss:   0.000, val_acc:   0.000, lr:   0.000\n",
      "For batch 70 on 21000, loss:   0.001, acc:   1.000, val_loss:   0.000, val_acc:   0.000, lr:   0.000\n",
      "For batch 75 on 22500, loss:   0.001, acc:   1.000, val_loss:   0.000, val_acc:   0.000, lr:   0.000\n",
      "For batch 80 on 24000, loss:   0.001, acc:   1.000, val_loss:   0.000, val_acc:   0.000, lr:   0.000\n",
      "For batch 85 on 25500, loss:   0.004, acc:   0.998, val_loss:   0.000, val_acc:   0.000, lr:   0.000\n",
      "For batch 90 on 27000, loss:   0.003, acc:   0.999, val_loss:   0.000, val_acc:   0.000, lr:   0.000\n",
      "For batch 95 on 28500, loss:   0.003, acc:   0.999, val_loss:   0.000, val_acc:   0.000, lr:   0.000\n",
      "For batch 100 on 30000, loss:   0.004, acc:   0.999, val_loss:   0.000, val_acc:   0.000, lr:   0.000\n",
      "Epoch 25 , val_loss:   0.020, val_acc:   0.994, loss:   0.003, acc:   0.999, lr:   0.000\n",
      "Epoch 00026: early stopping\n"
     ]
    },
    {
     "data": {
      "text/plain": [
       "<keras.callbacks.History at 0x23030f8d668>"
      ]
     },
     "execution_count": 34,
     "metadata": {},
     "output_type": "execute_result"
    }
   ],
   "source": [
    "BATCH_SIZE = 300\n",
    "EPOCHS = 24\n",
    "\n",
    "train_generator = DataGenerator('train', sr=SR, times=AUDIO_LENGTH, batch_size=BATCH_SIZE, random_state=RANDOM_SEED)\n",
    "test_generator = DataGenerator('test', sr=SR, times=AUDIO_LENGTH, batch_size=BATCH_SIZE, random_state=RANDOM_SEED)\n",
    "\n",
    "if not os.path.isdir(model_path):\n",
    "    os.mkdir(model_path)\n",
    "    \n",
    "hist = model.fit_generator(\n",
    "    train_generator,\n",
    "    epochs=EPOCHS,\n",
    "    verbose=0,\n",
    "    validation_data=test_generator,\n",
    "    callbacks=callback_list\n",
    ")"
   ]
  },
  {
   "cell_type": "code",
   "execution_count": 35,
   "metadata": {},
   "outputs": [
    {
     "data": {
      "text/plain": [
       "[0.0257811456480447, 0.9932353005689734]"
      ]
     },
     "execution_count": 35,
     "metadata": {},
     "output_type": "execute_result"
    }
   ],
   "source": [
    "model.evaluate_generator(DataGenerator('val'))"
   ]
  },
  {
   "cell_type": "code",
   "execution_count": 36,
   "metadata": {},
   "outputs": [
    {
     "data": {
      "text/plain": [
       "[0.015254793637061746, 0.9951136410236359]"
      ]
     },
     "execution_count": 36,
     "metadata": {},
     "output_type": "execute_result"
    }
   ],
   "source": [
    "model.evaluate_generator(DataGenerator('test'))"
   ]
  },
  {
   "cell_type": "code",
   "execution_count": null,
   "metadata": {},
   "outputs": [],
   "source": []
  }
 ],
 "metadata": {
  "kernelspec": {
   "display_name": "Python 3",
   "language": "python",
   "name": "python3"
  }
 },
 "nbformat": 4,
 "nbformat_minor": 2
}
